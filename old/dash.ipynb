{
 "cells": [
  {
   "cell_type": "code",
   "execution_count": 1,
   "id": "18cb0c12-8e98-4512-b2bb-bf364d063a55",
   "metadata": {},
   "outputs": [
    {
     "name": "stdout",
     "output_type": "stream",
     "text": [
      "2.18.2\n",
      "2.18.2\n"
     ]
    }
   ],
   "source": [
    "from datetime import datetime\n",
    "import pandas as pd\n",
    "import sys\n",
    "from dateutil.relativedelta import relativedelta\n",
    "import datetime\n",
    "import config\n",
    "import plotly.graph_objects as go\n",
    "import numpy as np\n",
    "from dbcontext import Context\n",
    "from jupyter_service import JupyterService\n",
    "from dash import Dash, dcc, html, callback, Output, Input, State\n",
    "import dash\n",
    "from iscri_dash import IscriDash\n",
    "print(dash.__version__)"
   ]
  },
  {
   "cell_type": "code",
   "execution_count": 2,
   "id": "4c15dd14-66b8-4c40-bdcd-8c7758072398",
   "metadata": {},
   "outputs": [
    {
     "name": "stdout",
     "output_type": "stream",
     "text": [
      "SELECT * FROM iscri WHERE actor1_code = 'USA' AND actor2_code = 'CHN' order by year, month\n",
      "select * from country\n"
     ]
    }
   ],
   "source": [
    "d = IscriDash()\n",
    "\n",
    "css = {\"font-family\": \"Arial, Helvetica, sans-serif\"}\n",
    "\n",
    "app = Dash()\n",
    "app.layout = ([\n",
    "    html.Div([\n",
    "        html.Div('ISCRI Dash Demo'),\n",
    "        dcc.Dropdown(d.country_df.iso3, id='country1-dd', value=\"USA\"),\n",
    "        dcc.Dropdown(d.country_df.iso3, id='country2-dd', value=\"CHN\"),\n",
    "        html.Button('Submit', id='submit-val', n_clicks=0),\n",
    "        html.Div(dcc.Graph(figure=d.fig, id=\"myfigure\"), id=\"div-figure\"),\n",
    "        html.Div(id='debug')\n",
    "        ],\n",
    "        style=css\n",
    "    )\n",
    "    ])\n",
    "\n",
    "@callback(\n",
    "    Output(\"debug\", \"children\", allow_duplicate=True),\n",
    "    Input('country1-dd', 'value'),\n",
    "    prevent_initial_call=True\n",
    ")\n",
    "def country1_update(value):\n",
    "    actor1_code = value\n",
    "    return f'Country1: {value}'\n",
    "\n",
    "@callback(\n",
    "    Output(\"debug\", \"children\", allow_duplicate=True),\n",
    "    Input('country2-dd', 'value'),\n",
    "    prevent_initial_call=True\n",
    ")\n",
    "def country2_update(value):\n",
    "    actor2_code = value\n",
    "    return f'Country2: {value}'\n",
    "\n",
    "@callback(\n",
    "    Output('myfigure', 'figure', allow_duplicate=True),\n",
    "    Input('submit-val', 'n_clicks'),\n",
    "    State(\"country1-dd\", \"value\"),\n",
    "    State(\"country2-dd\", \"value\"),\n",
    "    prevent_initial_call=True\n",
    ")\n",
    "def button_clicked(n_clicks, value1, value2):\n",
    "    d.actor1_code = value1\n",
    "    d.actor2_code = value2\n",
    "    d.get_df_by_code(value1, value2)\n",
    "    if len(d.df) > 0:\n",
    "        d.get_figure()\n",
    "        return d.fig\n",
    "    else:\n",
    "        d.empty_figure()\n",
    "        return d.fig\n",
    "    "
   ]
  },
  {
   "cell_type": "code",
   "execution_count": 3,
   "id": "684aaf51-e8a9-4d8e-9619-9036312aa26b",
   "metadata": {
    "scrolled": true
   },
   "outputs": [
    {
     "data": {
      "text/html": [
       "\n",
       "        <iframe\n",
       "            width=\"100%\"\n",
       "            height=\"650\"\n",
       "            src=\"http://127.0.0.1:8050/\"\n",
       "            frameborder=\"0\"\n",
       "            allowfullscreen\n",
       "            \n",
       "        ></iframe>\n",
       "        "
      ],
      "text/plain": [
       "<IPython.lib.display.IFrame at 0x27d254e43e0>"
      ]
     },
     "metadata": {},
     "output_type": "display_data"
    },
    {
     "name": "stdout",
     "output_type": "stream",
     "text": [
      "SELECT * FROM iscri WHERE actor1_code = 'GBR' AND actor2_code = 'CYM' order by year, month\n",
      "SELECT * FROM iscri WHERE actor1_code = 'GBR' AND actor2_code = 'CYM' order by year, month\n",
      "SELECT * FROM iscri WHERE actor1_code = 'GBR' AND actor2_code = 'CYM' order by year, month\n",
      "SELECT * FROM iscri WHERE actor1_code = 'GBR' AND actor2_code = 'CYM' order by year, month\n",
      "SELECT * FROM iscri WHERE actor1_code = 'TCA' AND actor2_code = 'CYM' order by year, month\n",
      "SELECT * FROM iscri WHERE actor1_code = 'TCA' AND actor2_code = 'CYM' order by year, month\n"
     ]
    }
   ],
   "source": [
    "app.run()"
   ]
  },
  {
   "cell_type": "code",
   "execution_count": null,
   "id": "d63a5af7-0be5-4da4-9749-76d5c956ef1e",
   "metadata": {},
   "outputs": [],
   "source": []
  }
 ],
 "metadata": {
  "kernelspec": {
   "display_name": "Python 3 (ipykernel)",
   "language": "python",
   "name": "python3"
  },
  "language_info": {
   "codemirror_mode": {
    "name": "ipython",
    "version": 3
   },
   "file_extension": ".py",
   "mimetype": "text/x-python",
   "name": "python",
   "nbconvert_exporter": "python",
   "pygments_lexer": "ipython3",
   "version": "3.12.0"
  }
 },
 "nbformat": 4,
 "nbformat_minor": 5
}
