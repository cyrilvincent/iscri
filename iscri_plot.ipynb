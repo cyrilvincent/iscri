{
 "cells": [
  {
   "cell_type": "code",
   "execution_count": 1,
   "id": "4be44421-198a-40f0-96fe-f28328c25b46",
   "metadata": {},
   "outputs": [
    {
     "name": "stdout",
     "output_type": "stream",
     "text": [
      " _____   _____   _____  _____   _____ \n",
      "|_   _| / ____| / ____||  __ \\ |_   _|\n",
      "  | |  | (___  | |     | |__) |  | |  \n",
      "  | |   \\___ \\ | |     |  _  /   | |  \n",
      " _| |_  ____) || |____ | | \\ \\  _| |_ \n",
      "|_____||_____/  \\_____||_|  \\_\\|_____|\n",
      "                                      \n",
      "                                      \n",
      "\n",
      "3.12.0 (tags/v3.12.0:0fb18b0, Oct  2 2023, 13:03:39) [MSC v.1935 64 bit (AMD64)] 0.1.0.Alpha 4.2.5 5.24.1 8.1.5\n"
     ]
    }
   ],
   "source": [
    "import sys\n",
    "import sqlalchemy\n",
    "import config\n",
    "import pandas as pd\n",
    "import art\n",
    "import psycopg2\n",
    "import jupyterlab\n",
    "import ipywidgets\n",
    "import matplotlib.pyplot as plt\n",
    "import plotly.graph_objects as go\n",
    "import plotly\n",
    "import numpy as np\n",
    "from dbcontext import Context\n",
    "from jupyter_service import JupyterService\n",
    "art.tprint(config.name, \"big\")\n",
    "print(sys.version, config.version, jupyterlab.__version__, plotly.__version__, ipywidgets.__version__)"
   ]
  },
  {
   "cell_type": "code",
   "execution_count": 2,
   "id": "ab2ce1b3-a432-4ced-8bcb-43dfe603e374",
   "metadata": {},
   "outputs": [
    {
     "name": "stdout",
     "output_type": "stream",
     "text": [
      "postgresql://postgres:sa@localhost:5432/iscri\n"
     ]
    }
   ],
   "source": [
    "pd.set_option('display.max_rows', 50)\n",
    "pd.set_option('display.max_columns', None)\n",
    "print(config.connection_string)\n",
    "context = Context()\n",
    "context.create(echo=False)\n",
    "service = JupyterService(context)"
   ]
  },
  {
   "cell_type": "code",
   "execution_count": 29,
   "id": "d2699d9e-6713-4d29-b8d7-06d48b52e9ae",
   "metadata": {},
   "outputs": [
    {
     "name": "stdout",
     "output_type": "stream",
     "text": [
      "SELECT * FROM iscri WHERE actor1_code = 'USA' AND actor2_code = 'CHN' order by year, month\n"
     ]
    },
    {
     "data": {
      "text/html": [
       "<div>\n",
       "<style scoped>\n",
       "    .dataframe tbody tr th:only-of-type {\n",
       "        vertical-align: middle;\n",
       "    }\n",
       "\n",
       "    .dataframe tbody tr th {\n",
       "        vertical-align: top;\n",
       "    }\n",
       "\n",
       "    .dataframe thead th {\n",
       "        text-align: right;\n",
       "    }\n",
       "</style>\n",
       "<table border=\"1\" class=\"dataframe\">\n",
       "  <thead>\n",
       "    <tr style=\"text-align: right;\">\n",
       "      <th></th>\n",
       "      <th>id</th>\n",
       "      <th>year</th>\n",
       "      <th>month</th>\n",
       "      <th>actor1_code</th>\n",
       "      <th>actor2_code</th>\n",
       "      <th>risk</th>\n",
       "      <th>risk3</th>\n",
       "      <th>risk4</th>\n",
       "      <th>risk_date</th>\n",
       "      <th>iscri</th>\n",
       "      <th>iscri3</th>\n",
       "      <th>iscri4</th>\n",
       "      <th>iscri_date</th>\n",
       "      <th>year_month</th>\n",
       "    </tr>\n",
       "  </thead>\n",
       "  <tbody>\n",
       "    <tr>\n",
       "      <th>0</th>\n",
       "      <td>118</td>\n",
       "      <td>2015</td>\n",
       "      <td>1</td>\n",
       "      <td>USA</td>\n",
       "      <td>CHN</td>\n",
       "      <td>0.151263</td>\n",
       "      <td>0.125013</td>\n",
       "      <td>0.026250</td>\n",
       "      <td>2024-10-19 11:16:58.826058</td>\n",
       "      <td>1.570000</td>\n",
       "      <td>0.000000</td>\n",
       "      <td>0.000000</td>\n",
       "      <td>2024-10-19 16:50:55.129374</td>\n",
       "      <td>2015-01</td>\n",
       "    </tr>\n",
       "    <tr>\n",
       "      <th>1</th>\n",
       "      <td>1856</td>\n",
       "      <td>2015</td>\n",
       "      <td>2</td>\n",
       "      <td>USA</td>\n",
       "      <td>CHN</td>\n",
       "      <td>0.158566</td>\n",
       "      <td>0.085820</td>\n",
       "      <td>0.072747</td>\n",
       "      <td>2024-10-19 11:16:59.149494</td>\n",
       "      <td>1.571566</td>\n",
       "      <td>0.085820</td>\n",
       "      <td>0.072747</td>\n",
       "      <td>2024-10-19 11:25:36.515152</td>\n",
       "      <td>2015-02</td>\n",
       "    </tr>\n",
       "    <tr>\n",
       "      <th>2</th>\n",
       "      <td>3435</td>\n",
       "      <td>2015</td>\n",
       "      <td>3</td>\n",
       "      <td>USA</td>\n",
       "      <td>CHN</td>\n",
       "      <td>0.187317</td>\n",
       "      <td>0.140317</td>\n",
       "      <td>0.047001</td>\n",
       "      <td>2024-10-19 11:16:59.494210</td>\n",
       "      <td>1.601727</td>\n",
       "      <td>0.217554</td>\n",
       "      <td>0.112473</td>\n",
       "      <td>2024-10-19 11:25:37.078040</td>\n",
       "      <td>2015-03</td>\n",
       "    </tr>\n",
       "    <tr>\n",
       "      <th>3</th>\n",
       "      <td>5315</td>\n",
       "      <td>2015</td>\n",
       "      <td>4</td>\n",
       "      <td>USA</td>\n",
       "      <td>CHN</td>\n",
       "      <td>0.193108</td>\n",
       "      <td>0.166323</td>\n",
       "      <td>0.026785</td>\n",
       "      <td>2024-10-19 11:16:59.858927</td>\n",
       "      <td>1.634662</td>\n",
       "      <td>0.362122</td>\n",
       "      <td>0.128010</td>\n",
       "      <td>2024-10-19 11:25:37.855729</td>\n",
       "      <td>2015-04</td>\n",
       "    </tr>\n",
       "    <tr>\n",
       "      <th>4</th>\n",
       "      <td>7245</td>\n",
       "      <td>2015</td>\n",
       "      <td>5</td>\n",
       "      <td>USA</td>\n",
       "      <td>CHN</td>\n",
       "      <td>0.155177</td>\n",
       "      <td>0.110513</td>\n",
       "      <td>0.044663</td>\n",
       "      <td>2024-10-19 11:17:00.187737</td>\n",
       "      <td>1.626372</td>\n",
       "      <td>0.436423</td>\n",
       "      <td>0.159872</td>\n",
       "      <td>2024-10-19 11:25:38.748435</td>\n",
       "      <td>2015-05</td>\n",
       "    </tr>\n",
       "    <tr>\n",
       "      <th>5</th>\n",
       "      <td>8988</td>\n",
       "      <td>2015</td>\n",
       "      <td>6</td>\n",
       "      <td>USA</td>\n",
       "      <td>CHN</td>\n",
       "      <td>0.258094</td>\n",
       "      <td>0.236619</td>\n",
       "      <td>0.021475</td>\n",
       "      <td>2024-10-19 11:17:00.505124</td>\n",
       "      <td>1.721829</td>\n",
       "      <td>0.629400</td>\n",
       "      <td>0.165360</td>\n",
       "      <td>2024-10-19 11:25:39.653804</td>\n",
       "      <td>2015-06</td>\n",
       "    </tr>\n",
       "    <tr>\n",
       "      <th>6</th>\n",
       "      <td>10806</td>\n",
       "      <td>2015</td>\n",
       "      <td>7</td>\n",
       "      <td>USA</td>\n",
       "      <td>CHN</td>\n",
       "      <td>0.207925</td>\n",
       "      <td>0.169231</td>\n",
       "      <td>0.038694</td>\n",
       "      <td>2024-10-19 11:17:00.829679</td>\n",
       "      <td>1.757572</td>\n",
       "      <td>0.735691</td>\n",
       "      <td>0.187519</td>\n",
       "      <td>2024-10-19 11:25:40.614227</td>\n",
       "      <td>2015-07</td>\n",
       "    </tr>\n",
       "    <tr>\n",
       "      <th>7</th>\n",
       "      <td>12394</td>\n",
       "      <td>2015</td>\n",
       "      <td>8</td>\n",
       "      <td>USA</td>\n",
       "      <td>CHN</td>\n",
       "      <td>0.200416</td>\n",
       "      <td>0.104671</td>\n",
       "      <td>0.095745</td>\n",
       "      <td>2024-10-19 11:17:01.111621</td>\n",
       "      <td>1.782230</td>\n",
       "      <td>0.766793</td>\n",
       "      <td>0.264511</td>\n",
       "      <td>2024-10-19 11:25:41.836034</td>\n",
       "      <td>2015-08</td>\n",
       "    </tr>\n",
       "    <tr>\n",
       "      <th>8</th>\n",
       "      <td>14315</td>\n",
       "      <td>2015</td>\n",
       "      <td>9</td>\n",
       "      <td>USA</td>\n",
       "      <td>CHN</td>\n",
       "      <td>0.113282</td>\n",
       "      <td>0.082297</td>\n",
       "      <td>0.030984</td>\n",
       "      <td>2024-10-19 11:17:01.420211</td>\n",
       "      <td>1.717289</td>\n",
       "      <td>0.772411</td>\n",
       "      <td>0.269045</td>\n",
       "      <td>2024-10-19 11:25:43.243021</td>\n",
       "      <td>2015-09</td>\n",
       "    </tr>\n",
       "    <tr>\n",
       "      <th>9</th>\n",
       "      <td>16126</td>\n",
       "      <td>2015</td>\n",
       "      <td>10</td>\n",
       "      <td>USA</td>\n",
       "      <td>CHN</td>\n",
       "      <td>0.134464</td>\n",
       "      <td>0.077630</td>\n",
       "      <td>0.056834</td>\n",
       "      <td>2024-10-19 11:17:01.740963</td>\n",
       "      <td>1.680024</td>\n",
       "      <td>0.772800</td>\n",
       "      <td>0.298974</td>\n",
       "      <td>2024-10-19 11:25:44.482845</td>\n",
       "      <td>2015-10</td>\n",
       "    </tr>\n",
       "    <tr>\n",
       "      <th>10</th>\n",
       "      <td>17851</td>\n",
       "      <td>2015</td>\n",
       "      <td>11</td>\n",
       "      <td>USA</td>\n",
       "      <td>CHN</td>\n",
       "      <td>0.119949</td>\n",
       "      <td>0.098655</td>\n",
       "      <td>0.021294</td>\n",
       "      <td>2024-10-19 11:17:02.037870</td>\n",
       "      <td>1.631970</td>\n",
       "      <td>0.794175</td>\n",
       "      <td>0.290371</td>\n",
       "      <td>2024-10-19 11:25:46.034039</td>\n",
       "      <td>2015-11</td>\n",
       "    </tr>\n",
       "    <tr>\n",
       "      <th>11</th>\n",
       "      <td>19604</td>\n",
       "      <td>2015</td>\n",
       "      <td>12</td>\n",
       "      <td>USA</td>\n",
       "      <td>CHN</td>\n",
       "      <td>0.143510</td>\n",
       "      <td>0.124473</td>\n",
       "      <td>0.019037</td>\n",
       "      <td>2024-10-19 11:17:02.366206</td>\n",
       "      <td>1.612283</td>\n",
       "      <td>0.839230</td>\n",
       "      <td>0.280370</td>\n",
       "      <td>2024-10-19 11:25:47.438794</td>\n",
       "      <td>2015-12</td>\n",
       "    </tr>\n",
       "    <tr>\n",
       "      <th>12</th>\n",
       "      <td>54223</td>\n",
       "      <td>2016</td>\n",
       "      <td>1</td>\n",
       "      <td>USA</td>\n",
       "      <td>CHN</td>\n",
       "      <td>0.096099</td>\n",
       "      <td>0.082181</td>\n",
       "      <td>0.013918</td>\n",
       "      <td>2024-10-20 19:14:59.548282</td>\n",
       "      <td>1.547154</td>\n",
       "      <td>0.837488</td>\n",
       "      <td>0.266251</td>\n",
       "      <td>2024-10-20 19:15:03.276425</td>\n",
       "      <td>2016-01</td>\n",
       "    </tr>\n",
       "    <tr>\n",
       "      <th>13</th>\n",
       "      <td>55983</td>\n",
       "      <td>2016</td>\n",
       "      <td>2</td>\n",
       "      <td>USA</td>\n",
       "      <td>CHN</td>\n",
       "      <td>0.122003</td>\n",
       "      <td>0.092120</td>\n",
       "      <td>0.029883</td>\n",
       "      <td>2024-10-20 19:14:59.780079</td>\n",
       "      <td>1.514441</td>\n",
       "      <td>0.845859</td>\n",
       "      <td>0.269509</td>\n",
       "      <td>2024-10-20 19:15:04.360911</td>\n",
       "      <td>2016-02</td>\n",
       "    </tr>\n",
       "    <tr>\n",
       "      <th>14</th>\n",
       "      <td>57775</td>\n",
       "      <td>2016</td>\n",
       "      <td>3</td>\n",
       "      <td>USA</td>\n",
       "      <td>CHN</td>\n",
       "      <td>0.140733</td>\n",
       "      <td>0.087492</td>\n",
       "      <td>0.053241</td>\n",
       "      <td>2024-10-20 19:15:00.066855</td>\n",
       "      <td>1.503729</td>\n",
       "      <td>0.848765</td>\n",
       "      <td>0.295799</td>\n",
       "      <td>2024-10-20 19:15:05.244133</td>\n",
       "      <td>2016-03</td>\n",
       "    </tr>\n",
       "    <tr>\n",
       "      <th>15</th>\n",
       "      <td>59705</td>\n",
       "      <td>2016</td>\n",
       "      <td>4</td>\n",
       "      <td>USA</td>\n",
       "      <td>CHN</td>\n",
       "      <td>0.234953</td>\n",
       "      <td>0.195685</td>\n",
       "      <td>0.039268</td>\n",
       "      <td>2024-10-20 19:15:00.353009</td>\n",
       "      <td>1.588310</td>\n",
       "      <td>0.959574</td>\n",
       "      <td>0.305487</td>\n",
       "      <td>2024-10-20 19:15:06.072953</td>\n",
       "      <td>2016-04</td>\n",
       "    </tr>\n",
       "    <tr>\n",
       "      <th>16</th>\n",
       "      <td>61504</td>\n",
       "      <td>2016</td>\n",
       "      <td>5</td>\n",
       "      <td>USA</td>\n",
       "      <td>CHN</td>\n",
       "      <td>0.229360</td>\n",
       "      <td>0.182728</td>\n",
       "      <td>0.046632</td>\n",
       "      <td>2024-10-20 19:15:00.557682</td>\n",
       "      <td>1.658839</td>\n",
       "      <td>1.046344</td>\n",
       "      <td>0.321570</td>\n",
       "      <td>2024-10-20 19:15:06.857906</td>\n",
       "      <td>2016-05</td>\n",
       "    </tr>\n",
       "    <tr>\n",
       "      <th>17</th>\n",
       "      <td>63485</td>\n",
       "      <td>2016</td>\n",
       "      <td>6</td>\n",
       "      <td>USA</td>\n",
       "      <td>CHN</td>\n",
       "      <td>0.152814</td>\n",
       "      <td>0.118164</td>\n",
       "      <td>0.034649</td>\n",
       "      <td>2024-10-20 19:15:00.822538</td>\n",
       "      <td>1.645768</td>\n",
       "      <td>1.059874</td>\n",
       "      <td>0.324062</td>\n",
       "      <td>2024-10-20 19:15:07.724174</td>\n",
       "      <td>2016-06</td>\n",
       "    </tr>\n",
       "    <tr>\n",
       "      <th>18</th>\n",
       "      <td>65326</td>\n",
       "      <td>2016</td>\n",
       "      <td>7</td>\n",
       "      <td>USA</td>\n",
       "      <td>CHN</td>\n",
       "      <td>0.125815</td>\n",
       "      <td>0.095383</td>\n",
       "      <td>0.030431</td>\n",
       "      <td>2024-10-20 19:15:01.102166</td>\n",
       "      <td>1.607006</td>\n",
       "      <td>1.049270</td>\n",
       "      <td>0.322087</td>\n",
       "      <td>2024-10-20 19:15:08.615057</td>\n",
       "      <td>2016-07</td>\n",
       "    </tr>\n",
       "    <tr>\n",
       "      <th>19</th>\n",
       "      <td>67364</td>\n",
       "      <td>2016</td>\n",
       "      <td>8</td>\n",
       "      <td>USA</td>\n",
       "      <td>CHN</td>\n",
       "      <td>0.125201</td>\n",
       "      <td>0.093487</td>\n",
       "      <td>0.031714</td>\n",
       "      <td>2024-10-20 19:15:01.317117</td>\n",
       "      <td>1.571507</td>\n",
       "      <td>1.037830</td>\n",
       "      <td>0.321593</td>\n",
       "      <td>2024-10-20 19:15:09.622635</td>\n",
       "      <td>2016-08</td>\n",
       "    </tr>\n",
       "    <tr>\n",
       "      <th>20</th>\n",
       "      <td>69172</td>\n",
       "      <td>2016</td>\n",
       "      <td>9</td>\n",
       "      <td>USA</td>\n",
       "      <td>CHN</td>\n",
       "      <td>0.137273</td>\n",
       "      <td>0.103635</td>\n",
       "      <td>0.033637</td>\n",
       "      <td>2024-10-20 19:15:01.577918</td>\n",
       "      <td>1.551629</td>\n",
       "      <td>1.037683</td>\n",
       "      <td>0.323071</td>\n",
       "      <td>2024-10-20 19:15:10.498413</td>\n",
       "      <td>2016-09</td>\n",
       "    </tr>\n",
       "    <tr>\n",
       "      <th>21</th>\n",
       "      <td>71272</td>\n",
       "      <td>2016</td>\n",
       "      <td>10</td>\n",
       "      <td>USA</td>\n",
       "      <td>CHN</td>\n",
       "      <td>0.191226</td>\n",
       "      <td>0.132350</td>\n",
       "      <td>0.058876</td>\n",
       "      <td>2024-10-20 19:15:01.863370</td>\n",
       "      <td>1.587692</td>\n",
       "      <td>1.066264</td>\n",
       "      <td>0.349639</td>\n",
       "      <td>2024-10-20 19:15:11.430927</td>\n",
       "      <td>2016-10</td>\n",
       "    </tr>\n",
       "    <tr>\n",
       "      <th>22</th>\n",
       "      <td>73117</td>\n",
       "      <td>2016</td>\n",
       "      <td>11</td>\n",
       "      <td>USA</td>\n",
       "      <td>CHN</td>\n",
       "      <td>0.129522</td>\n",
       "      <td>0.098487</td>\n",
       "      <td>0.031035</td>\n",
       "      <td>2024-10-20 19:15:02.074624</td>\n",
       "      <td>1.558445</td>\n",
       "      <td>1.058125</td>\n",
       "      <td>0.345711</td>\n",
       "      <td>2024-10-20 19:15:12.383055</td>\n",
       "      <td>2016-11</td>\n",
       "    </tr>\n",
       "    <tr>\n",
       "      <th>23</th>\n",
       "      <td>75134</td>\n",
       "      <td>2016</td>\n",
       "      <td>12</td>\n",
       "      <td>USA</td>\n",
       "      <td>CHN</td>\n",
       "      <td>0.190976</td>\n",
       "      <td>0.139420</td>\n",
       "      <td>0.051556</td>\n",
       "      <td>2024-10-20 19:15:02.343667</td>\n",
       "      <td>1.593576</td>\n",
       "      <td>1.091733</td>\n",
       "      <td>0.362695</td>\n",
       "      <td>2024-10-20 19:15:13.364918</td>\n",
       "      <td>2016-12</td>\n",
       "    </tr>\n",
       "  </tbody>\n",
       "</table>\n",
       "</div>"
      ],
      "text/plain": [
       "       id  year  month actor1_code actor2_code      risk     risk3     risk4  \\\n",
       "0     118  2015      1         USA         CHN  0.151263  0.125013  0.026250   \n",
       "1    1856  2015      2         USA         CHN  0.158566  0.085820  0.072747   \n",
       "2    3435  2015      3         USA         CHN  0.187317  0.140317  0.047001   \n",
       "3    5315  2015      4         USA         CHN  0.193108  0.166323  0.026785   \n",
       "4    7245  2015      5         USA         CHN  0.155177  0.110513  0.044663   \n",
       "5    8988  2015      6         USA         CHN  0.258094  0.236619  0.021475   \n",
       "6   10806  2015      7         USA         CHN  0.207925  0.169231  0.038694   \n",
       "7   12394  2015      8         USA         CHN  0.200416  0.104671  0.095745   \n",
       "8   14315  2015      9         USA         CHN  0.113282  0.082297  0.030984   \n",
       "9   16126  2015     10         USA         CHN  0.134464  0.077630  0.056834   \n",
       "10  17851  2015     11         USA         CHN  0.119949  0.098655  0.021294   \n",
       "11  19604  2015     12         USA         CHN  0.143510  0.124473  0.019037   \n",
       "12  54223  2016      1         USA         CHN  0.096099  0.082181  0.013918   \n",
       "13  55983  2016      2         USA         CHN  0.122003  0.092120  0.029883   \n",
       "14  57775  2016      3         USA         CHN  0.140733  0.087492  0.053241   \n",
       "15  59705  2016      4         USA         CHN  0.234953  0.195685  0.039268   \n",
       "16  61504  2016      5         USA         CHN  0.229360  0.182728  0.046632   \n",
       "17  63485  2016      6         USA         CHN  0.152814  0.118164  0.034649   \n",
       "18  65326  2016      7         USA         CHN  0.125815  0.095383  0.030431   \n",
       "19  67364  2016      8         USA         CHN  0.125201  0.093487  0.031714   \n",
       "20  69172  2016      9         USA         CHN  0.137273  0.103635  0.033637   \n",
       "21  71272  2016     10         USA         CHN  0.191226  0.132350  0.058876   \n",
       "22  73117  2016     11         USA         CHN  0.129522  0.098487  0.031035   \n",
       "23  75134  2016     12         USA         CHN  0.190976  0.139420  0.051556   \n",
       "\n",
       "                    risk_date     iscri    iscri3    iscri4  \\\n",
       "0  2024-10-19 11:16:58.826058  1.570000  0.000000  0.000000   \n",
       "1  2024-10-19 11:16:59.149494  1.571566  0.085820  0.072747   \n",
       "2  2024-10-19 11:16:59.494210  1.601727  0.217554  0.112473   \n",
       "3  2024-10-19 11:16:59.858927  1.634662  0.362122  0.128010   \n",
       "4  2024-10-19 11:17:00.187737  1.626372  0.436423  0.159872   \n",
       "5  2024-10-19 11:17:00.505124  1.721829  0.629400  0.165360   \n",
       "6  2024-10-19 11:17:00.829679  1.757572  0.735691  0.187519   \n",
       "7  2024-10-19 11:17:01.111621  1.782230  0.766793  0.264511   \n",
       "8  2024-10-19 11:17:01.420211  1.717289  0.772411  0.269045   \n",
       "9  2024-10-19 11:17:01.740963  1.680024  0.772800  0.298974   \n",
       "10 2024-10-19 11:17:02.037870  1.631970  0.794175  0.290371   \n",
       "11 2024-10-19 11:17:02.366206  1.612283  0.839230  0.280370   \n",
       "12 2024-10-20 19:14:59.548282  1.547154  0.837488  0.266251   \n",
       "13 2024-10-20 19:14:59.780079  1.514441  0.845859  0.269509   \n",
       "14 2024-10-20 19:15:00.066855  1.503729  0.848765  0.295799   \n",
       "15 2024-10-20 19:15:00.353009  1.588310  0.959574  0.305487   \n",
       "16 2024-10-20 19:15:00.557682  1.658839  1.046344  0.321570   \n",
       "17 2024-10-20 19:15:00.822538  1.645768  1.059874  0.324062   \n",
       "18 2024-10-20 19:15:01.102166  1.607006  1.049270  0.322087   \n",
       "19 2024-10-20 19:15:01.317117  1.571507  1.037830  0.321593   \n",
       "20 2024-10-20 19:15:01.577918  1.551629  1.037683  0.323071   \n",
       "21 2024-10-20 19:15:01.863370  1.587692  1.066264  0.349639   \n",
       "22 2024-10-20 19:15:02.074624  1.558445  1.058125  0.345711   \n",
       "23 2024-10-20 19:15:02.343667  1.593576  1.091733  0.362695   \n",
       "\n",
       "                   iscri_date year_month  \n",
       "0  2024-10-19 16:50:55.129374    2015-01  \n",
       "1  2024-10-19 11:25:36.515152    2015-02  \n",
       "2  2024-10-19 11:25:37.078040    2015-03  \n",
       "3  2024-10-19 11:25:37.855729    2015-04  \n",
       "4  2024-10-19 11:25:38.748435    2015-05  \n",
       "5  2024-10-19 11:25:39.653804    2015-06  \n",
       "6  2024-10-19 11:25:40.614227    2015-07  \n",
       "7  2024-10-19 11:25:41.836034    2015-08  \n",
       "8  2024-10-19 11:25:43.243021    2015-09  \n",
       "9  2024-10-19 11:25:44.482845    2015-10  \n",
       "10 2024-10-19 11:25:46.034039    2015-11  \n",
       "11 2024-10-19 11:25:47.438794    2015-12  \n",
       "12 2024-10-20 19:15:03.276425    2016-01  \n",
       "13 2024-10-20 19:15:04.360911    2016-02  \n",
       "14 2024-10-20 19:15:05.244133    2016-03  \n",
       "15 2024-10-20 19:15:06.072953    2016-04  \n",
       "16 2024-10-20 19:15:06.857906    2016-05  \n",
       "17 2024-10-20 19:15:07.724174    2016-06  \n",
       "18 2024-10-20 19:15:08.615057    2016-07  \n",
       "19 2024-10-20 19:15:09.622635    2016-08  \n",
       "20 2024-10-20 19:15:10.498413    2016-09  \n",
       "21 2024-10-20 19:15:11.430927    2016-10  \n",
       "22 2024-10-20 19:15:12.383055    2016-11  \n",
       "23 2024-10-20 19:15:13.364918    2016-12  "
      ]
     },
     "execution_count": 29,
     "metadata": {},
     "output_type": "execute_result"
    }
   ],
   "source": [
    "df = service.get_iscris_by_codes(actor1_code='USA', actor2_code='CHN')\n",
    "#df[\"year_month\"]=df.year.astype(str) + \"-\" + df.month.astype(str)\n",
    "df[\"year_month\"]=df.apply(lambda row: f\"{row.year}-{row.month:02d}\", axis=1) \n",
    "df"
   ]
  },
  {
   "cell_type": "code",
   "execution_count": 31,
   "id": "11488b36-418f-4b60-a0cf-e5be7184ff30",
   "metadata": {},
   "outputs": [
    {
     "data": {
      "text/plain": [
       "[<matplotlib.lines.Line2D at 0x15029d36090>]"
      ]
     },
     "execution_count": 31,
     "metadata": {},
     "output_type": "execute_result"
    },
    {
     "data": {
      "image/png": "[encoded data removed]",
      "text/plain": [
       "<Figure size 1400x600 with 1 Axes>"
      ]
     },
     "metadata": {},
     "output_type": "display_data"
    }
   ],
   "source": [
    "plt.figure(figsize=(14,6))\n",
    "plt.xticks(rotation=45)\n",
    "plt.grid()\n",
    "plt.plot(df.year_month, df.iscri)\n",
    "# plt.ylim(1.4,1.8)"
   ]
  },
  {
   "cell_type": "code",
   "execution_count": 33,
   "id": "3120fe46-002d-449e-ad8e-48a16c284269",
   "metadata": {},
   "outputs": [
    {
     "data": {
      "application/vnd.plotly.v1+json": {
       "config": {
        "plotlyServerURL": "https://plot.ly"
       },
       "data": [
        {
         "line": {
          "color": "#00CED1",
          "width": 6
         },
         "name": "Month 0",
         "type": "scatter",
         "visible": true,
         "x": [
          "2015-01",
          "2015-02",
          "2015-03",
          "2015-04",
          "2015-05",
          "2015-06",
          "2015-07",
          "2015-08",
          "2015-09",
          "2015-10",
          "2015-11",
          "2015-12",
          "2016-01",
          "2016-02",
          "2016-03",
          "2016-04",
          "2016-05",
          "2016-06",
          "2016-07",
          "2016-08",
          "2016-09",
          "2016-10",
          "2016-11",
          "2016-12"
         ],
         "y": [
          1.57,
          1.571566294910226,
          1.6017268877814923,
          1.6346620648783259,
          1.6263724573377463,
          1.7218292565134317,
          1.7575716034549551,
          1.7822302338944926,
          1.717288912638201,
          1.6800239911174337,
          1.6319703014757403,
          1.6122828966878309,
          1.547153605343965,
          1.5144408583241138,
          1.5037294462219732,
          1.5883095059023882,
          1.6588385209312282,
          1.6457683729325254,
          1.6070063701901744,
          1.5715067793410964,
          1.5516286096250296,
          1.58769161726194,
          1.5584449117135137,
          1.5935762838482717
         ]
        },
        {
         "line": {
          "color": "#00CED1",
          "width": 6
         },
         "name": "Month 1",
         "type": "scatter",
         "visible": false,
         "x": [
          "2015-01",
          "2015-02",
          "2015-03",
          "2015-04",
          "2015-05",
          "2015-06",
          "2015-07",
          "2015-08",
          "2015-09",
          "2015-10",
          "2015-11",
          "2015-12",
          "2016-01",
          "2016-02",
          "2016-03",
          "2016-04",
          "2016-05",
          "2016-06",
          "2016-07",
          "2016-08",
          "2016-09",
          "2016-10",
          "2016-11",
          "2016-12"
         ],
         "y": [
          1.571566294910226,
          1.6017268877814923,
          1.6346620648783259,
          1.6263724573377463,
          1.7218292565134317,
          1.7575716034549551,
          1.7822302338944926,
          1.717288912638201,
          1.6800239911174337,
          1.6319703014757403,
          1.6122828966878309,
          1.547153605343965,
          1.5144408583241138,
          1.5037294462219732,
          1.5883095059023882,
          1.6588385209312282,
          1.6457683729325254,
          1.6070063701901744,
          1.5715067793410964,
          1.5516286096250296,
          1.58769161726194,
          1.5584449117135137,
          1.5935762838482717
         ]
        },
        {
         "line": {
          "color": "#00CED1",
          "width": 6
         },
         "name": "Month 2",
         "type": "scatter",
         "visible": false,
         "x": [
          "2015-01",
          "2015-02",
          "2015-03",
          "2015-04",
          "2015-05",
          "2015-06",
          "2015-07",
          "2015-08",
          "2015-09",
          "2015-10",
          "2015-11",
          "2015-12",
          "2016-01",
          "2016-02",
          "2016-03",
          "2016-04",
          "2016-05",
          "2016-06",
          "2016-07",
          "2016-08",
          "2016-09",
          "2016-10",
          "2016-11",
          "2016-12"
         ],
         "y": [
          1.6017268877814923,
          1.6346620648783259,
          1.6263724573377463,
          1.7218292565134317,
          1.7575716034549551,
          1.7822302338944926,
          1.717288912638201,
          1.6800239911174337,
          1.6319703014757403,
          1.6122828966878309,
          1.547153605343965,
          1.5144408583241138,
          1.5037294462219732,
          1.5883095059023882,
          1.6588385209312282,
          1.6457683729325254,
          1.6070063701901744,
          1.5715067793410964,
          1.5516286096250296,
          1.58769161726194,
          1.5584449117135137,
          1.5935762838482717
         ]
        },
        {
         "line": {
          "color": "#00CED1",
          "width": 6
         },
         "name": "Month 3",
         "type": "scatter",
         "visible": false,
         "x": [
          "2015-01",
          "2015-02",
          "2015-03",
          "2015-04",
          "2015-05",
          "2015-06",
          "2015-07",
          "2015-08",
          "2015-09",
          "2015-10",
          "2015-11",
          "2015-12",
          "2016-01",
          "2016-02",
          "2016-03",
          "2016-04",
          "2016-05",
          "2016-06",
          "2016-07",
          "2016-08",
          "2016-09",
          "2016-10",
          "2016-11",
          "2016-12"
         ],
         "y": [
          1.6346620648783259,
          1.6263724573377463,
          1.7218292565134317,
          1.7575716034549551,
          1.7822302338944926,
          1.717288912638201,
          1.6800239911174337,
          1.6319703014757403,
          1.6122828966878309,
          1.547153605343965,
          1.5144408583241138,
          1.5037294462219732,
          1.5883095059023882,
          1.6588385209312282,
          1.6457683729325254,
          1.6070063701901744,
          1.5715067793410964,
          1.5516286096250296,
          1.58769161726194,
          1.5584449117135137,
          1.5935762838482717
         ]
        },
        {
         "line": {
          "color": "#00CED1",
          "width": 6
         },
         "name": "Month 4",
         "type": "scatter",
         "visible": false,
         "x": [
          "2015-01",
          "2015-02",
          "2015-03",
          "2015-04",
          "2015-05",
          "2015-06",
          "2015-07",
          "2015-08",
          "2015-09",
          "2015-10",
          "2015-11",
          "2015-12",
          "2016-01",
          "2016-02",
          "2016-03",
          "2016-04",
          "2016-05",
          "2016-06",
          "2016-07",
          "2016-08",
          "2016-09",
          "2016-10",
          "2016-11",
          "2016-12"
         ],
         "y": [
          1.6263724573377463,
          1.7218292565134317,
          1.7575716034549551,
          1.7822302338944926,
          1.717288912638201,
          1.6800239911174337,
          1.6319703014757403,
          1.6122828966878309,
          1.547153605343965,
          1.5144408583241138,
          1.5037294462219732,
          1.5883095059023882,
          1.6588385209312282,
          1.6457683729325254,
          1.6070063701901744,
          1.5715067793410964,
          1.5516286096250296,
          1.58769161726194,
          1.5584449117135137,
          1.5935762838482717
         ]
        },
        {
         "line": {
          "color": "#00CED1",
          "width": 6
         },
         "name": "Month 5",
         "type": "scatter",
         "visible": false,
         "x": [
          "2015-01",
          "2015-02",
          "2015-03",
          "2015-04",
          "2015-05",
          "2015-06",
          "2015-07",
          "2015-08",
          "2015-09",
          "2015-10",
          "2015-11",
          "2015-12",
          "2016-01",
          "2016-02",
          "2016-03",
          "2016-04",
          "2016-05",
          "2016-06",
          "2016-07",
          "2016-08",
          "2016-09",
          "2016-10",
          "2016-11",
          "2016-12"
         ],
         "y": [
          1.7218292565134317,
          1.7575716034549551,
          1.7822302338944926,
          1.717288912638201,
          1.6800239911174337,
          1.6319703014757403,
          1.6122828966878309,
          1.547153605343965,
          1.5144408583241138,
          1.5037294462219732,
          1.5883095059023882,
          1.6588385209312282,
          1.6457683729325254,
          1.6070063701901744,
          1.5715067793410964,
          1.5516286096250296,
          1.58769161726194,
          1.5584449117135137,
          1.5935762838482717
         ]
        },
        {
         "line": {
          "color": "#00CED1",
          "width": 6
         },
         "name": "Month 6",
         "type": "scatter",
         "visible": false,
         "x": [
          "2015-01",
          "2015-02",
          "2015-03",
          "2015-04",
          "2015-05",
          "2015-06",
          "2015-07",
          "2015-08",
          "2015-09",
          "2015-10",
          "2015-11",
          "2015-12",
          "2016-01",
          "2016-02",
          "2016-03",
          "2016-04",
          "2016-05",
          "2016-06",
          "2016-07",
          "2016-08",
          "2016-09",
          "2016-10",
          "2016-11",
          "2016-12"
         ],
         "y": [
          1.7575716034549551,
          1.7822302338944926,
          1.717288912638201,
          1.6800239911174337,
          1.6319703014757403,
          1.6122828966878309,
          1.547153605343965,
          1.5144408583241138,
          1.5037294462219732,
          1.5883095059023882,
          1.6588385209312282,
          1.6457683729325254,
          1.6070063701901744,
          1.5715067793410964,
          1.5516286096250296,
          1.58769161726194,
          1.5584449117135137,
          1.5935762838482717
         ]
        },
        {
         "line": {
          "color": "#00CED1",
          "width": 6
         },
         "name": "Month 7",
         "type": "scatter",
         "visible": false,
         "x": [
          "2015-01",
          "2015-02",
          "2015-03",
          "2015-04",
          "2015-05",
          "2015-06",
          "2015-07",
          "2015-08",
          "2015-09",
          "2015-10",
          "2015-11",
          "2015-12",
          "2016-01",
          "2016-02",
          "2016-03",
          "2016-04",
          "2016-05",
          "2016-06",
          "2016-07",
          "2016-08",
          "2016-09",
          "2016-10",
          "2016-11",
          "2016-12"
         ],
         "y": [
          1.7822302338944926,
          1.717288912638201,
          1.6800239911174337,
          1.6319703014757403,
          1.6122828966878309,
          1.547153605343965,
          1.5144408583241138,
          1.5037294462219732,
          1.5883095059023882,
          1.6588385209312282,
          1.6457683729325254,
          1.6070063701901744,
          1.5715067793410964,
          1.5516286096250296,
          1.58769161726194,
          1.5584449117135137,
          1.5935762838482717
         ]
        },
        {
         "line": {
          "color": "#00CED1",
          "width": 6
         },
         "name": "Month 8",
         "type": "scatter",
         "visible": false,
         "x": [
          "2015-01",
          "2015-02",
          "2015-03",
          "2015-04",
          "2015-05",
          "2015-06",
          "2015-07",
          "2015-08",
          "2015-09",
          "2015-10",
          "2015-11",
          "2015-12",
          "2016-01",
          "2016-02",
          "2016-03",
          "2016-04",
          "2016-05",
          "2016-06",
          "2016-07",
          "2016-08",
          "2016-09",
          "2016-10",
          "2016-11",
          "2016-12"
         ],
         "y": [
          1.717288912638201,
          1.6800239911174337,
          1.6319703014757403,
          1.6122828966878309,
          1.547153605343965,
          1.5144408583241138,
          1.5037294462219732,
          1.5883095059023882,
          1.6588385209312282,
          1.6457683729325254,
          1.6070063701901744,
          1.5715067793410964,
          1.5516286096250296,
          1.58769161726194,
          1.5584449117135137,
          1.5935762838482717
         ]
        },
        {
         "line": {
          "color": "#00CED1",
          "width": 6
         },
         "name": "Month 9",
         "type": "scatter",
         "visible": false,
         "x": [
          "2015-01",
          "2015-02",
          "2015-03",
          "2015-04",
          "2015-05",
          "2015-06",
          "2015-07",
          "2015-08",
          "2015-09",
          "2015-10",
          "2015-11",
          "2015-12",
          "2016-01",
          "2016-02",
          "2016-03",
          "2016-04",
          "2016-05",
          "2016-06",
          "2016-07",
          "2016-08",
          "2016-09",
          "2016-10",
          "2016-11",
          "2016-12"
         ],
         "y": [
          1.6800239911174337,
          1.6319703014757403,
          1.6122828966878309,
          1.547153605343965,
          1.5144408583241138,
          1.5037294462219732,
          1.5883095059023882,
          1.6588385209312282,
          1.6457683729325254,
          1.6070063701901744,
          1.5715067793410964,
          1.5516286096250296,
          1.58769161726194,
          1.5584449117135137,
          1.5935762838482717
         ]
        },
        {
         "line": {
          "color": "#00CED1",
          "width": 6
         },
         "name": "Month 10",
         "type": "scatter",
         "visible": false,
         "x": [
          "2015-01",
          "2015-02",
          "2015-03",
          "2015-04",
          "2015-05",
          "2015-06",
          "2015-07",
          "2015-08",
          "2015-09",
          "2015-10",
          "2015-11",
          "2015-12",
          "2016-01",
          "2016-02",
          "2016-03",
          "2016-04",
          "2016-05",
          "2016-06",
          "2016-07",
          "2016-08",
          "2016-09",
          "2016-10",
          "2016-11",
          "2016-12"
         ],
         "y": [
          1.6319703014757403,
          1.6122828966878309,
          1.547153605343965,
          1.5144408583241138,
          1.5037294462219732,
          1.5883095059023882,
          1.6588385209312282,
          1.6457683729325254,
          1.6070063701901744,
          1.5715067793410964,
          1.5516286096250296,
          1.58769161726194,
          1.5584449117135137,
          1.5935762838482717
         ]
        },
        {
         "line": {
          "color": "#00CED1",
          "width": 6
         },
         "name": "Month 11",
         "type": "scatter",
         "visible": false,
         "x": [
          "2015-01",
          "2015-02",
          "2015-03",
          "2015-04",
          "2015-05",
          "2015-06",
          "2015-07",
          "2015-08",
          "2015-09",
          "2015-10",
          "2015-11",
          "2015-12",
          "2016-01",
          "2016-02",
          "2016-03",
          "2016-04",
          "2016-05",
          "2016-06",
          "2016-07",
          "2016-08",
          "2016-09",
          "2016-10",
          "2016-11",
          "2016-12"
         ],
         "y": [
          1.6122828966878309,
          1.547153605343965,
          1.5144408583241138,
          1.5037294462219732,
          1.5883095059023882,
          1.6588385209312282,
          1.6457683729325254,
          1.6070063701901744,
          1.5715067793410964,
          1.5516286096250296,
          1.58769161726194,
          1.5584449117135137,
          1.5935762838482717
         ]
        },
        {
         "line": {
          "color": "#00CED1",
          "width": 6
         },
         "name": "Month 12",
         "type": "scatter",
         "visible": false,
         "x": [
          "2015-01",
          "2015-02",
          "2015-03",
          "2015-04",
          "2015-05",
          "2015-06",
          "2015-07",
          "2015-08",
          "2015-09",
          "2015-10",
          "2015-11",
          "2015-12",
          "2016-01",
          "2016-02",
          "2016-03",
          "2016-04",
          "2016-05",
          "2016-06",
          "2016-07",
          "2016-08",
          "2016-09",
          "2016-10",
          "2016-11",
          "2016-12"
         ],
         "y": [
          1.547153605343965,
          1.5144408583241138,
          1.5037294462219732,
          1.5883095059023882,
          1.6588385209312282,
          1.6457683729325254,
          1.6070063701901744,
          1.5715067793410964,
          1.5516286096250296,
          1.58769161726194,
          1.5584449117135137,
          1.5935762838482717
         ]
        },
        {
         "line": {
          "color": "#00CED1",
          "width": 6
         },
         "name": "Month 13",
         "type": "scatter",
         "visible": false,
         "x": [
          "2015-01",
          "2015-02",
          "2015-03",
          "2015-04",
          "2015-05",
          "2015-06",
          "2015-07",
          "2015-08",
          "2015-09",
          "2015-10",
          "2015-11",
          "2015-12",
          "2016-01",
          "2016-02",
          "2016-03",
          "2016-04",
          "2016-05",
          "2016-06",
          "2016-07",
          "2016-08",
          "2016-09",
          "2016-10",
          "2016-11",
          "2016-12"
         ],
         "y": [
          1.5144408583241138,
          1.5037294462219732,
          1.5883095059023882,
          1.6588385209312282,
          1.6457683729325254,
          1.6070063701901744,
          1.5715067793410964,
          1.5516286096250296,
          1.58769161726194,
          1.5584449117135137,
          1.5935762838482717
         ]
        },
        {
         "line": {
          "color": "#00CED1",
          "width": 6
         },
         "name": "Month 14",
         "type": "scatter",
         "visible": false,
         "x": [
          "2015-01",
          "2015-02",
          "2015-03",
          "2015-04",
          "2015-05",
          "2015-06",
          "2015-07",
          "2015-08",
          "2015-09",
          "2015-10",
          "2015-11",
          "2015-12",
          "2016-01",
          "2016-02",
          "2016-03",
          "2016-04",
          "2016-05",
          "2016-06",
          "2016-07",
          "2016-08",
          "2016-09",
          "2016-10",
          "2016-11",
          "2016-12"
         ],
         "y": [
          1.5037294462219732,
          1.5883095059023882,
          1.6588385209312282,
          1.6457683729325254,
          1.6070063701901744,
          1.5715067793410964,
          1.5516286096250296,
          1.58769161726194,
          1.5584449117135137,
          1.5935762838482717
         ]
        },
        {
         "line": {
          "color": "#00CED1",
          "width": 6
         },
         "name": "Month 15",
         "type": "scatter",
         "visible": false,
         "x": [
          "2015-01",
          "2015-02",
          "2015-03",
          "2015-04",
          "2015-05",
          "2015-06",
          "2015-07",
          "2015-08",
          "2015-09",
          "2015-10",
          "2015-11",
          "2015-12",
          "2016-01",
          "2016-02",
          "2016-03",
          "2016-04",
          "2016-05",
          "2016-06",
          "2016-07",
          "2016-08",
          "2016-09",
          "2016-10",
          "2016-11",
          "2016-12"
         ],
         "y": [
          1.5883095059023882,
          1.6588385209312282,
          1.6457683729325254,
          1.6070063701901744,
          1.5715067793410964,
          1.5516286096250296,
          1.58769161726194,
          1.5584449117135137,
          1.5935762838482717
         ]
        },
        {
         "line": {
          "color": "#00CED1",
          "width": 6
         },
         "name": "Month 16",
         "type": "scatter",
         "visible": false,
         "x": [
          "2015-01",
          "2015-02",
          "2015-03",
          "2015-04",
          "2015-05",
          "2015-06",
          "2015-07",
          "2015-08",
          "2015-09",
          "2015-10",
          "2015-11",
          "2015-12",
          "2016-01",
          "2016-02",
          "2016-03",
          "2016-04",
          "2016-05",
          "2016-06",
          "2016-07",
          "2016-08",
          "2016-09",
          "2016-10",
          "2016-11",
          "2016-12"
         ],
         "y": [
          1.6588385209312282,
          1.6457683729325254,
          1.6070063701901744,
          1.5715067793410964,
          1.5516286096250296,
          1.58769161726194,
          1.5584449117135137,
          1.5935762838482717
         ]
        },
        {
         "line": {
          "color": "#00CED1",
          "width": 6
         },
         "name": "Month 17",
         "type": "scatter",
         "visible": false,
         "x": [
          "2015-01",
          "2015-02",
          "2015-03",
          "2015-04",
          "2015-05",
          "2015-06",
          "2015-07",
          "2015-08",
          "2015-09",
          "2015-10",
          "2015-11",
          "2015-12",
          "2016-01",
          "2016-02",
          "2016-03",
          "2016-04",
          "2016-05",
          "2016-06",
          "2016-07",
          "2016-08",
          "2016-09",
          "2016-10",
          "2016-11",
          "2016-12"
         ],
         "y": [
          1.6457683729325254,
          1.6070063701901744,
          1.5715067793410964,
          1.5516286096250296,
          1.58769161726194,
          1.5584449117135137,
          1.5935762838482717
         ]
        },
        {
         "line": {
          "color": "#00CED1",
          "width": 6
         },
         "name": "Month 18",
         "type": "scatter",
         "visible": false,
         "x": [
          "2015-01",
          "2015-02",
          "2015-03",
          "2015-04",
          "2015-05",
          "2015-06",
          "2015-07",
          "2015-08",
          "2015-09",
          "2015-10",
          "2015-11",
          "2015-12",
          "2016-01",
          "2016-02",
          "2016-03",
          "2016-04",
          "2016-05",
          "2016-06",
          "2016-07",
          "2016-08",
          "2016-09",
          "2016-10",
          "2016-11",
          "2016-12"
         ],
         "y": [
          1.6070063701901744,
          1.5715067793410964,
          1.5516286096250296,
          1.58769161726194,
          1.5584449117135137,
          1.5935762838482717
         ]
        },
        {
         "line": {
          "color": "#00CED1",
          "width": 6
         },
         "name": "Month 19",
         "type": "scatter",
         "visible": false,
         "x": [
          "2015-01",
          "2015-02",
          "2015-03",
          "2015-04",
          "2015-05",
          "2015-06",
          "2015-07",
          "2015-08",
          "2015-09",
          "2015-10",
          "2015-11",
          "2015-12",
          "2016-01",
          "2016-02",
          "2016-03",
          "2016-04",
          "2016-05",
          "2016-06",
          "2016-07",
          "2016-08",
          "2016-09",
          "2016-10",
          "2016-11",
          "2016-12"
         ],
         "y": [
          1.5715067793410964,
          1.5516286096250296,
          1.58769161726194,
          1.5584449117135137,
          1.5935762838482717
         ]
        },
        {
         "line": {
          "color": "#00CED1",
          "width": 6
         },
         "name": "Month 20",
         "type": "scatter",
         "visible": false,
         "x": [
          "2015-01",
          "2015-02",
          "2015-03",
          "2015-04",
          "2015-05",
          "2015-06",
          "2015-07",
          "2015-08",
          "2015-09",
          "2015-10",
          "2015-11",
          "2015-12",
          "2016-01",
          "2016-02",
          "2016-03",
          "2016-04",
          "2016-05",
          "2016-06",
          "2016-07",
          "2016-08",
          "2016-09",
          "2016-10",
          "2016-11",
          "2016-12"
         ],
         "y": [
          1.5516286096250296,
          1.58769161726194,
          1.5584449117135137,
          1.5935762838482717
         ]
        },
        {
         "line": {
          "color": "#00CED1",
          "width": 6
         },
         "name": "Month 21",
         "type": "scatter",
         "visible": false,
         "x": [
          "2015-01",
          "2015-02",
          "2015-03",
          "2015-04",
          "2015-05",
          "2015-06",
          "2015-07",
          "2015-08",
          "2015-09",
          "2015-10",
          "2015-11",
          "2015-12",
          "2016-01",
          "2016-02",
          "2016-03",
          "2016-04",
          "2016-05",
          "2016-06",
          "2016-07",
          "2016-08",
          "2016-09",
          "2016-10",
          "2016-11",
          "2016-12"
         ],
         "y": [
          1.58769161726194,
          1.5584449117135137,
          1.5935762838482717
         ]
        },
        {
         "line": {
          "color": "#00CED1",
          "width": 6
         },
         "name": "Month 22",
         "type": "scatter",
         "visible": false,
         "x": [
          "2015-01",
          "2015-02",
          "2015-03",
          "2015-04",
          "2015-05",
          "2015-06",
          "2015-07",
          "2015-08",
          "2015-09",
          "2015-10",
          "2015-11",
          "2015-12",
          "2016-01",
          "2016-02",
          "2016-03",
          "2016-04",
          "2016-05",
          "2016-06",
          "2016-07",
          "2016-08",
          "2016-09",
          "2016-10",
          "2016-11",
          "2016-12"
         ],
         "y": [
          1.5584449117135137,
          1.5935762838482717
         ]
        },
        {
         "line": {
          "color": "#00CED1",
          "width": 6
         },
         "name": "Month 23",
         "type": "scatter",
         "visible": false,
         "x": [
          "2015-01",
          "2015-02",
          "2015-03",
          "2015-04",
          "2015-05",
          "2015-06",
          "2015-07",
          "2015-08",
          "2015-09",
          "2015-10",
          "2015-11",
          "2015-12",
          "2016-01",
          "2016-02",
          "2016-03",
          "2016-04",
          "2016-05",
          "2016-06",
          "2016-07",
          "2016-08",
          "2016-09",
          "2016-10",
          "2016-11",
          "2016-12"
         ],
         "y": [
          1.5935762838482717
         ]
        }
       ],
       "layout": {
        "autosize": true,
        "sliders": [
         {
          "active": 0,
          "currentvalue": {
           "prefix": "Date: "
          },
          "pad": {
           "t": 24
          },
          "steps": [
           {
            "args": [
             {
              "visible": [
               true,
               false,
               false,
               false,
               false,
               false,
               false,
               false,
               false,
               false,
               false,
               false,
               false,
               false,
               false,
               false,
               false,
               false,
               false,
               false,
               false,
               false,
               false,
               false
              ]
             }
            ],
            "label": "2015-01",
            "method": "restyle"
           },
           {
            "args": [
             {
              "visible": [
               false,
               true,
               false,
               false,
               false,
               false,
               false,
               false,
               false,
               false,
               false,
               false,
               false,
               false,
               false,
               false,
               false,
               false,
               false,
               false,
               false,
               false,
               false,
               false
              ]
             }
            ],
            "label": "2015-02",
            "method": "restyle"
           },
           {
            "args": [
             {
              "visible": [
               false,
               false,
               true,
               false,
               false,
               false,
               false,
               false,
               false,
               false,
               false,
               false,
               false,
               false,
               false,
               false,
               false,
               false,
               false,
               false,
               false,
               false,
               false,
               false
              ]
             }
            ],
            "label": "2015-03",
            "method": "restyle"
           },
           {
            "args": [
             {
              "visible": [
               false,
               false,
               false,
               true,
               false,
               false,
               false,
               false,
               false,
               false,
               false,
               false,
               false,
               false,
               false,
               false,
               false,
               false,
               false,
               false,
               false,
               false,
               false,
               false
              ]
             }
            ],
            "label": "2015-04",
            "method": "restyle"
           },
           {
            "args": [
             {
              "visible": [
               false,
               false,
               false,
               false,
               true,
               false,
               false,
               false,
               false,
               false,
               false,
               false,
               false,
               false,
               false,
               false,
               false,
               false,
               false,
               false,
               false,
               false,
               false,
               false
              ]
             }
            ],
            "label": "2015-05",
            "method": "restyle"
           },
           {
            "args": [
             {
              "visible": [
               false,
               false,
               false,
               false,
               false,
               true,
               false,
               false,
               false,
               false,
               false,
               false,
               false,
               false,
               false,
               false,
               false,
               false,
               false,
               false,
               false,
               false,
               false,
               false
              ]
             }
            ],
            "label": "2015-06",
            "method": "restyle"
           },
           {
            "args": [
             {
              "visible": [
               false,
               false,
               false,
               false,
               false,
               false,
               true,
               false,
               false,
               false,
               false,
               false,
               false,
               false,
               false,
               false,
               false,
               false,
               false,
               false,
               false,
               false,
               false,
               false
              ]
             }
            ],
            "label": "2015-07",
            "method": "restyle"
           },
           {
            "args": [
             {
              "visible": [
               false,
               false,
               false,
               false,
               false,
               false,
               false,
               true,
               false,
               false,
               false,
               false,
               false,
               false,
               false,
               false,
               false,
               false,
               false,
               false,
               false,
               false,
               false,
               false
              ]
             }
            ],
            "label": "2015-08",
            "method": "restyle"
           },
           {
            "args": [
             {
              "visible": [
               false,
               false,
               false,
               false,
               false,
               false,
               false,
               false,
               true,
               false,
               false,
               false,
               false,
               false,
               false,
               false,
               false,
               false,
               false,
               false,
               false,
               false,
               false,
               false
              ]
             }
            ],
            "label": "2015-09",
            "method": "restyle"
           },
           {
            "args": [
             {
              "visible": [
               false,
               false,
               false,
               false,
               false,
               false,
               false,
               false,
               false,
               true,
               false,
               false,
               false,
               false,
               false,
               false,
               false,
               false,
               false,
               false,
               false,
               false,
               false,
               false
              ]
             }
            ],
            "label": "2015-10",
            "method": "restyle"
           },
           {
            "args": [
             {
              "visible": [
               false,
               false,
               false,
               false,
               false,
               false,
               false,
               false,
               false,
               false,
               true,
               false,
               false,
               false,
               false,
               false,
               false,
               false,
               false,
               false,
               false,
               false,
               false,
               false
              ]
             }
            ],
            "label": "2015-11",
            "method": "restyle"
           },
           {
            "args": [
             {
              "visible": [
               false,
               false,
               false,
               false,
               false,
               false,
               false,
               false,
               false,
               false,
               false,
               true,
               false,
               false,
               false,
               false,
               false,
               false,
               false,
               false,
               false,
               false,
               false,
               false
              ]
             }
            ],
            "label": "2015-12",
            "method": "restyle"
           },
           {
            "args": [
             {
              "visible": [
               false,
               false,
               false,
               false,
               false,
               false,
               false,
               false,
               false,
               false,
               false,
               false,
               true,
               false,
               false,
               false,
               false,
               false,
               false,
               false,
               false,
               false,
               false,
               false
              ]
             }
            ],
            "label": "2016-01",
            "method": "restyle"
           },
           {
            "args": [
             {
              "visible": [
               false,
               false,
               false,
               false,
               false,
               false,
               false,
               false,
               false,
               false,
               false,
               false,
               false,
               true,
               false,
               false,
               false,
               false,
               false,
               false,
               false,
               false,
               false,
               false
              ]
             }
            ],
            "label": "2016-02",
            "method": "restyle"
           },
           {
            "args": [
             {
              "visible": [
               false,
               false,
               false,
               false,
               false,
               false,
               false,
               false,
               false,
               false,
               false,
               false,
               false,
               false,
               true,
               false,
               false,
               false,
               false,
               false,
               false,
               false,
               false,
               false
              ]
             }
            ],
            "label": "2016-03",
            "method": "restyle"
           },
           {
            "args": [
             {
              "visible": [
               false,
               false,
               false,
               false,
               false,
               false,
               false,
               false,
               false,
               false,
               false,
               false,
               false,
               false,
               false,
               true,
               false,
               false,
               false,
               false,
               false,
               false,
               false,
               false
              ]
             }
            ],
            "label": "2016-04",
            "method": "restyle"
           },
           {
            "args": [
             {
              "visible": [
               false,
               false,
               false,
               false,
               false,
               false,
               false,
               false,
               false,
               false,
               false,
               false,
               false,
               false,
               false,
               false,
               true,
               false,
               false,
               false,
               false,
               false,
               false,
               false
              ]
             }
            ],
            "label": "2016-05",
            "method": "restyle"
           },
           {
            "args": [
             {
              "visible": [
               false,
               false,
               false,
               false,
               false,
               false,
               false,
               false,
               false,
               false,
               false,
               false,
               false,
               false,
               false,
               false,
               false,
               true,
               false,
               false,
               false,
               false,
               false,
               false
              ]
             }
            ],
            "label": "2016-06",
            "method": "restyle"
           },
           {
            "args": [
             {
              "visible": [
               false,
               false,
               false,
               false,
               false,
               false,
               false,
               false,
               false,
               false,
               false,
               false,
               false,
               false,
               false,
               false,
               false,
               false,
               true,
               false,
               false,
               false,
               false,
               false
              ]
             }
            ],
            "label": "2016-07",
            "method": "restyle"
           },
           {
            "args": [
             {
              "visible": [
               false,
               false,
               false,
               false,
               false,
               false,
               false,
               false,
               false,
               false,
               false,
               false,
               false,
               false,
               false,
               false,
               false,
               false,
               false,
               true,
               false,
               false,
               false,
               false
              ]
             }
            ],
            "label": "2016-08",
            "method": "restyle"
           },
           {
            "args": [
             {
              "visible": [
               false,
               false,
               false,
               false,
               false,
               false,
               false,
               false,
               false,
               false,
               false,
               false,
               false,
               false,
               false,
               false,
               false,
               false,
               false,
               false,
               true,
               false,
               false,
               false
              ]
             }
            ],
            "label": "2016-09",
            "method": "restyle"
           },
           {
            "args": [
             {
              "visible": [
               false,
               false,
               false,
               false,
               false,
               false,
               false,
               false,
               false,
               false,
               false,
               false,
               false,
               false,
               false,
               false,
               false,
               false,
               false,
               false,
               false,
               true,
               false,
               false
              ]
             }
            ],
            "label": "2016-10",
            "method": "restyle"
           },
           {
            "args": [
             {
              "visible": [
               false,
               false,
               false,
               false,
               false,
               false,
               false,
               false,
               false,
               false,
               false,
               false,
               false,
               false,
               false,
               false,
               false,
               false,
               false,
               false,
               false,
               false,
               true,
               false
              ]
             }
            ],
            "label": "2016-11",
            "method": "restyle"
           },
           {
            "args": [
             {
              "visible": [
               false,
               false,
               false,
               false,
               false,
               false,
               false,
               false,
               false,
               false,
               false,
               false,
               false,
               false,
               false,
               false,
               false,
               false,
               false,
               false,
               false,
               false,
               false,
               true
              ]
             }
            ],
            "label": "2016-12",
            "method": "restyle"
           }
          ]
         }
        ],
        "template": {
         "data": {
          "bar": [
           {
            "error_x": {
             "color": "#2a3f5f"
            },
            "error_y": {
             "color": "#2a3f5f"
            },
            "marker": {
             "line": {
              "color": "#E5ECF6",
              "width": 0.5
             },
             "pattern": {
              "fillmode": "overlay",
              "size": 10,
              "solidity": 0.2
             }
            },
            "type": "bar"
           }
          ],
          "barpolar": [
           {
            "marker": {
             "line": {
              "color": "#E5ECF6",
              "width": 0.5
             },
             "pattern": {
              "fillmode": "overlay",
              "size": 10,
              "solidity": 0.2
             }
            },
            "type": "barpolar"
           }
          ],
          "carpet": [
           {
            "aaxis": {
             "endlinecolor": "#2a3f5f",
             "gridcolor": "white",
             "linecolor": "white",
             "minorgridcolor": "white",
             "startlinecolor": "#2a3f5f"
            },
            "baxis": {
             "endlinecolor": "#2a3f5f",
             "gridcolor": "white",
             "linecolor": "white",
             "minorgridcolor": "white",
             "startlinecolor": "#2a3f5f"
            },
            "type": "carpet"
           }
          ],
          "choropleth": [
           {
            "colorbar": {
             "outlinewidth": 0,
             "ticks": ""
            },
            "type": "choropleth"
           }
          ],
          "contour": [
           {
            "colorbar": {
             "outlinewidth": 0,
             "ticks": ""
            },
            "colorscale": [
             [
              0,
              "#0d0887"
             ],
             [
              0.1111111111111111,
              "#46039f"
             ],
             [
              0.2222222222222222,
              "#7201a8"
             ],
             [
              0.3333333333333333,
              "#9c179e"
             ],
             [
              0.4444444444444444,
              "#bd3786"
             ],
             [
              0.5555555555555556,
              "#d8576b"
             ],
             [
              0.6666666666666666,
              "#ed7953"
             ],
             [
              0.7777777777777778,
              "#fb9f3a"
             ],
             [
              0.8888888888888888,
              "#fdca26"
             ],
             [
              1,
              "#f0f921"
             ]
            ],
            "type": "contour"
           }
          ],
          "contourcarpet": [
           {
            "colorbar": {
             "outlinewidth": 0,
             "ticks": ""
            },
            "type": "contourcarpet"
           }
          ],
          "heatmap": [
           {
            "colorbar": {
             "outlinewidth": 0,
             "ticks": ""
            },
            "colorscale": [
             [
              0,
              "#0d0887"
             ],
             [
              0.1111111111111111,
              "#46039f"
             ],
             [
              0.2222222222222222,
              "#7201a8"
             ],
             [
              0.3333333333333333,
              "#9c179e"
             ],
             [
              0.4444444444444444,
              "#bd3786"
             ],
             [
              0.5555555555555556,
              "#d8576b"
             ],
             [
              0.6666666666666666,
              "#ed7953"
             ],
             [
              0.7777777777777778,
              "#fb9f3a"
             ],
             [
              0.8888888888888888,
              "#fdca26"
             ],
             [
              1,
              "#f0f921"
             ]
            ],
            "type": "heatmap"
           }
          ],
          "heatmapgl": [
           {
            "colorbar": {
             "outlinewidth": 0,
             "ticks": ""
            },
            "colorscale": [
             [
              0,
              "#0d0887"
             ],
             [
              0.1111111111111111,
              "#46039f"
             ],
             [
              0.2222222222222222,
              "#7201a8"
             ],
             [
              0.3333333333333333,
              "#9c179e"
             ],
             [
              0.4444444444444444,
              "#bd3786"
             ],
             [
              0.5555555555555556,
              "#d8576b"
             ],
             [
              0.6666666666666666,
              "#ed7953"
             ],
             [
              0.7777777777777778,
              "#fb9f3a"
             ],
             [
              0.8888888888888888,
              "#fdca26"
             ],
             [
              1,
              "#f0f921"
             ]
            ],
            "type": "heatmapgl"
           }
          ],
          "histogram": [
           {
            "marker": {
             "pattern": {
              "fillmode": "overlay",
              "size": 10,
              "solidity": 0.2
             }
            },
            "type": "histogram"
           }
          ],
          "histogram2d": [
           {
            "colorbar": {
             "outlinewidth": 0,
             "ticks": ""
            },
            "colorscale": [
             [
              0,
              "#0d0887"
             ],
             [
              0.1111111111111111,
              "#46039f"
             ],
             [
              0.2222222222222222,
              "#7201a8"
             ],
             [
              0.3333333333333333,
              "#9c179e"
             ],
             [
              0.4444444444444444,
              "#bd3786"
             ],
             [
              0.5555555555555556,
              "#d8576b"
             ],
             [
              0.6666666666666666,
              "#ed7953"
             ],
             [
              0.7777777777777778,
              "#fb9f3a"
             ],
             [
              0.8888888888888888,
              "#fdca26"
             ],
             [
              1,
              "#f0f921"
             ]
            ],
            "type": "histogram2d"
           }
          ],
          "histogram2dcontour": [
           {
            "colorbar": {
             "outlinewidth": 0,
             "ticks": ""
            },
            "colorscale": [
             [
              0,
              "#0d0887"
             ],
             [
              0.1111111111111111,
              "#46039f"
             ],
             [
              0.2222222222222222,
              "#7201a8"
             ],
             [
              0.3333333333333333,
              "#9c179e"
             ],
             [
              0.4444444444444444,
              "#bd3786"
             ],
             [
              0.5555555555555556,
              "#d8576b"
             ],
             [
              0.6666666666666666,
              "#ed7953"
             ],
             [
              0.7777777777777778,
              "#fb9f3a"
             ],
             [
              0.8888888888888888,
              "#fdca26"
             ],
             [
              1,
              "#f0f921"
             ]
            ],
            "type": "histogram2dcontour"
           }
          ],
          "mesh3d": [
           {
            "colorbar": {
             "outlinewidth": 0,
             "ticks": ""
            },
            "type": "mesh3d"
           }
          ],
          "parcoords": [
           {
            "line": {
             "colorbar": {
              "outlinewidth": 0,
              "ticks": ""
             }
            },
            "type": "parcoords"
           }
          ],
          "pie": [
           {
            "automargin": true,
            "type": "pie"
           }
          ],
          "scatter": [
           {
            "fillpattern": {
             "fillmode": "overlay",
             "size": 10,
             "solidity": 0.2
            },
            "type": "scatter"
           }
          ],
          "scatter3d": [
           {
            "line": {
             "colorbar": {
              "outlinewidth": 0,
              "ticks": ""
             }
            },
            "marker": {
             "colorbar": {
              "outlinewidth": 0,
              "ticks": ""
             }
            },
            "type": "scatter3d"
           }
          ],
          "scattercarpet": [
           {
            "marker": {
             "colorbar": {
              "outlinewidth": 0,
              "ticks": ""
             }
            },
            "type": "scattercarpet"
           }
          ],
          "scattergeo": [
           {
            "marker": {
             "colorbar": {
              "outlinewidth": 0,
              "ticks": ""
             }
            },
            "type": "scattergeo"
           }
          ],
          "scattergl": [
           {
            "marker": {
             "colorbar": {
              "outlinewidth": 0,
              "ticks": ""
             }
            },
            "type": "scattergl"
           }
          ],
          "scattermapbox": [
           {
            "marker": {
             "colorbar": {
              "outlinewidth": 0,
              "ticks": ""
             }
            },
            "type": "scattermapbox"
           }
          ],
          "scatterpolar": [
           {
            "marker": {
             "colorbar": {
              "outlinewidth": 0,
              "ticks": ""
             }
            },
            "type": "scatterpolar"
           }
          ],
          "scatterpolargl": [
           {
            "marker": {
             "colorbar": {
              "outlinewidth": 0,
              "ticks": ""
             }
            },
            "type": "scatterpolargl"
           }
          ],
          "scatterternary": [
           {
            "marker": {
             "colorbar": {
              "outlinewidth": 0,
              "ticks": ""
             }
            },
            "type": "scatterternary"
           }
          ],
          "surface": [
           {
            "colorbar": {
             "outlinewidth": 0,
             "ticks": ""
            },
            "colorscale": [
             [
              0,
              "#0d0887"
             ],
             [
              0.1111111111111111,
              "#46039f"
             ],
             [
              0.2222222222222222,
              "#7201a8"
             ],
             [
              0.3333333333333333,
              "#9c179e"
             ],
             [
              0.4444444444444444,
              "#bd3786"
             ],
             [
              0.5555555555555556,
              "#d8576b"
             ],
             [
              0.6666666666666666,
              "#ed7953"
             ],
             [
              0.7777777777777778,
              "#fb9f3a"
             ],
             [
              0.8888888888888888,
              "#fdca26"
             ],
             [
              1,
              "#f0f921"
             ]
            ],
            "type": "surface"
           }
          ],
          "table": [
           {
            "cells": {
             "fill": {
              "color": "#EBF0F8"
             },
             "line": {
              "color": "white"
             }
            },
            "header": {
             "fill": {
              "color": "#C8D4E3"
             },
             "line": {
              "color": "white"
             }
            },
            "type": "table"
           }
          ]
         },
         "layout": {
          "annotationdefaults": {
           "arrowcolor": "#2a3f5f",
           "arrowhead": 0,
           "arrowwidth": 1
          },
          "autotypenumbers": "strict",
          "coloraxis": {
           "colorbar": {
            "outlinewidth": 0,
            "ticks": ""
           }
          },
          "colorscale": {
           "diverging": [
            [
             0,
             "#8e0152"
            ],
            [
             0.1,
             "#c51b7d"
            ],
            [
             0.2,
             "#de77ae"
            ],
            [
             0.3,
             "#f1b6da"
            ],
            [
             0.4,
             "#fde0ef"
            ],
            [
             0.5,
             "#f7f7f7"
            ],
            [
             0.6,
             "#e6f5d0"
            ],
            [
             0.7,
             "#b8e186"
            ],
            [
             0.8,
             "#7fbc41"
            ],
            [
             0.9,
             "#4d9221"
            ],
            [
             1,
             "#276419"
            ]
           ],
           "sequential": [
            [
             0,
             "#0d0887"
            ],
            [
             0.1111111111111111,
             "#46039f"
            ],
            [
             0.2222222222222222,
             "#7201a8"
            ],
            [
             0.3333333333333333,
             "#9c179e"
            ],
            [
             0.4444444444444444,
             "#bd3786"
            ],
            [
             0.5555555555555556,
             "#d8576b"
            ],
            [
             0.6666666666666666,
             "#ed7953"
            ],
            [
             0.7777777777777778,
             "#fb9f3a"
            ],
            [
             0.8888888888888888,
             "#fdca26"
            ],
            [
             1,
             "#f0f921"
            ]
           ],
           "sequentialminus": [
            [
             0,
             "#0d0887"
            ],
            [
             0.1111111111111111,
             "#46039f"
            ],
            [
             0.2222222222222222,
             "#7201a8"
            ],
            [
             0.3333333333333333,
             "#9c179e"
            ],
            [
             0.4444444444444444,
             "#bd3786"
            ],
            [
             0.5555555555555556,
             "#d8576b"
            ],
            [
             0.6666666666666666,
             "#ed7953"
            ],
            [
             0.7777777777777778,
             "#fb9f3a"
            ],
            [
             0.8888888888888888,
             "#fdca26"
            ],
            [
             1,
             "#f0f921"
            ]
           ]
          },
          "colorway": [
           "#636efa",
           "#EF553B",
           "#00cc96",
           "#ab63fa",
           "#FFA15A",
           "#19d3f3",
           "#FF6692",
           "#B6E880",
           "#FF97FF",
           "#FECB52"
          ],
          "font": {
           "color": "#2a3f5f"
          },
          "geo": {
           "bgcolor": "white",
           "lakecolor": "white",
           "landcolor": "#E5ECF6",
           "showlakes": true,
           "showland": true,
           "subunitcolor": "white"
          },
          "hoverlabel": {
           "align": "left"
          },
          "hovermode": "closest",
          "mapbox": {
           "style": "light"
          },
          "paper_bgcolor": "white",
          "plot_bgcolor": "#E5ECF6",
          "polar": {
           "angularaxis": {
            "gridcolor": "white",
            "linecolor": "white",
            "ticks": ""
           },
           "bgcolor": "#E5ECF6",
           "radialaxis": {
            "gridcolor": "white",
            "linecolor": "white",
            "ticks": ""
           }
          },
          "scene": {
           "xaxis": {
            "backgroundcolor": "#E5ECF6",
            "gridcolor": "white",
            "gridwidth": 2,
            "linecolor": "white",
            "showbackground": true,
            "ticks": "",
            "zerolinecolor": "white"
           },
           "yaxis": {
            "backgroundcolor": "#E5ECF6",
            "gridcolor": "white",
            "gridwidth": 2,
            "linecolor": "white",
            "showbackground": true,
            "ticks": "",
            "zerolinecolor": "white"
           },
           "zaxis": {
            "backgroundcolor": "#E5ECF6",
            "gridcolor": "white",
            "gridwidth": 2,
            "linecolor": "white",
            "showbackground": true,
            "ticks": "",
            "zerolinecolor": "white"
           }
          },
          "shapedefaults": {
           "line": {
            "color": "#2a3f5f"
           }
          },
          "ternary": {
           "aaxis": {
            "gridcolor": "white",
            "linecolor": "white",
            "ticks": ""
           },
           "baxis": {
            "gridcolor": "white",
            "linecolor": "white",
            "ticks": ""
           },
           "bgcolor": "#E5ECF6",
           "caxis": {
            "gridcolor": "white",
            "linecolor": "white",
            "ticks": ""
           }
          },
          "title": {
           "x": 0.05
          },
          "xaxis": {
           "automargin": true,
           "gridcolor": "white",
           "linecolor": "white",
           "ticks": "",
           "title": {
            "standoff": 15
           },
           "zerolinecolor": "white",
           "zerolinewidth": 2
          },
          "yaxis": {
           "automargin": true,
           "gridcolor": "white",
           "linecolor": "white",
           "ticks": "",
           "title": {
            "standoff": 15
           },
           "zerolinecolor": "white",
           "zerolinewidth": 2
          }
         }
        },
        "title": {
         "text": "ISCRI USA-CHN"
        },
        "xaxis": {
         "autorange": true,
         "range": [
          "2015-01-01",
          "2016-12-01"
         ],
         "tickformat": "%Y-%m",
         "type": "date"
        },
        "yaxis": {
         "autorange": true,
         "range": [
          1.4882571802401665,
          1.7977024998762994
         ],
         "title": {
          "text": "ISCRI"
         },
         "type": "linear"
        }
       }
      },
      "image/png": "[encoded data removed]",
      "text/html": [
       "<div>                            <div id=\"b58cc82b-4809-4db2-ac8d-24410a91b375\" class=\"plotly-graph-div\" style=\"height:600px; width:100%;\"></div>            <script type=\"text/javascript\">                require([\"plotly\"], function(Plotly) {                    window.PLOTLYENV=window.PLOTLYENV || {};                                    if (document.getElementById(\"b58cc82b-4809-4db2-ac8d-24410a91b375\")) {                    Plotly.newPlot(                        \"b58cc82b-4809-4db2-ac8d-24410a91b375\",                        [{\"line\":{\"color\":\"#00CED1\",\"width\":6},\"name\":\"Month 0\",\"visible\":true,\"x\":[\"2015-01\",\"2015-02\",\"2015-03\",\"2015-04\",\"2015-05\",\"2015-06\",\"2015-07\",\"2015-08\",\"2015-09\",\"2015-10\",\"2015-11\",\"2015-12\",\"2016-01\",\"2016-02\",\"2016-03\",\"2016-04\",\"2016-05\",\"2016-06\",\"2016-07\",\"2016-08\",\"2016-09\",\"2016-10\",\"2016-11\",\"2016-12\"],\"y\":[1.57,1.571566294910226,1.6017268877814923,1.6346620648783259,1.6263724573377463,1.7218292565134317,1.7575716034549551,1.7822302338944926,1.717288912638201,1.6800239911174337,1.6319703014757403,1.6122828966878309,1.547153605343965,1.5144408583241138,1.5037294462219732,1.5883095059023882,1.6588385209312282,1.6457683729325254,1.6070063701901744,1.5715067793410964,1.5516286096250296,1.58769161726194,1.5584449117135137,1.5935762838482717],\"type\":\"scatter\"},{\"line\":{\"color\":\"#00CED1\",\"width\":6},\"name\":\"Month 1\",\"visible\":false,\"x\":[\"2015-01\",\"2015-02\",\"2015-03\",\"2015-04\",\"2015-05\",\"2015-06\",\"2015-07\",\"2015-08\",\"2015-09\",\"2015-10\",\"2015-11\",\"2015-12\",\"2016-01\",\"2016-02\",\"2016-03\",\"2016-04\",\"2016-05\",\"2016-06\",\"2016-07\",\"2016-08\",\"2016-09\",\"2016-10\",\"2016-11\",\"2016-12\"],\"y\":[1.571566294910226,1.6017268877814923,1.6346620648783259,1.6263724573377463,1.7218292565134317,1.7575716034549551,1.7822302338944926,1.717288912638201,1.6800239911174337,1.6319703014757403,1.6122828966878309,1.547153605343965,1.5144408583241138,1.5037294462219732,1.5883095059023882,1.6588385209312282,1.6457683729325254,1.6070063701901744,1.5715067793410964,1.5516286096250296,1.58769161726194,1.5584449117135137,1.5935762838482717],\"type\":\"scatter\"},{\"line\":{\"color\":\"#00CED1\",\"width\":6},\"name\":\"Month 2\",\"visible\":false,\"x\":[\"2015-01\",\"2015-02\",\"2015-03\",\"2015-04\",\"2015-05\",\"2015-06\",\"2015-07\",\"2015-08\",\"2015-09\",\"2015-10\",\"2015-11\",\"2015-12\",\"2016-01\",\"2016-02\",\"2016-03\",\"2016-04\",\"2016-05\",\"2016-06\",\"2016-07\",\"2016-08\",\"2016-09\",\"2016-10\",\"2016-11\",\"2016-12\"],\"y\":[1.6017268877814923,1.6346620648783259,1.6263724573377463,1.7218292565134317,1.7575716034549551,1.7822302338944926,1.717288912638201,1.6800239911174337,1.6319703014757403,1.6122828966878309,1.547153605343965,1.5144408583241138,1.5037294462219732,1.5883095059023882,1.6588385209312282,1.6457683729325254,1.6070063701901744,1.5715067793410964,1.5516286096250296,1.58769161726194,1.5584449117135137,1.5935762838482717],\"type\":\"scatter\"},{\"line\":{\"color\":\"#00CED1\",\"width\":6},\"name\":\"Month 3\",\"visible\":false,\"x\":[\"2015-01\",\"2015-02\",\"2015-03\",\"2015-04\",\"2015-05\",\"2015-06\",\"2015-07\",\"2015-08\",\"2015-09\",\"2015-10\",\"2015-11\",\"2015-12\",\"2016-01\",\"2016-02\",\"2016-03\",\"2016-04\",\"2016-05\",\"2016-06\",\"2016-07\",\"2016-08\",\"2016-09\",\"2016-10\",\"2016-11\",\"2016-12\"],\"y\":[1.6346620648783259,1.6263724573377463,1.7218292565134317,1.7575716034549551,1.7822302338944926,1.717288912638201,1.6800239911174337,1.6319703014757403,1.6122828966878309,1.547153605343965,1.5144408583241138,1.5037294462219732,1.5883095059023882,1.6588385209312282,1.6457683729325254,1.6070063701901744,1.5715067793410964,1.5516286096250296,1.58769161726194,1.5584449117135137,1.5935762838482717],\"type\":\"scatter\"},{\"line\":{\"color\":\"#00CED1\",\"width\":6},\"name\":\"Month 4\",\"visible\":false,\"x\":[\"2015-01\",\"2015-02\",\"2015-03\",\"2015-04\",\"2015-05\",\"2015-06\",\"2015-07\",\"2015-08\",\"2015-09\",\"2015-10\",\"2015-11\",\"2015-12\",\"2016-01\",\"2016-02\",\"2016-03\",\"2016-04\",\"2016-05\",\"2016-06\",\"2016-07\",\"2016-08\",\"2016-09\",\"2016-10\",\"2016-11\",\"2016-12\"],\"y\":[1.6263724573377463,1.7218292565134317,1.7575716034549551,1.7822302338944926,1.717288912638201,1.6800239911174337,1.6319703014757403,1.6122828966878309,1.547153605343965,1.5144408583241138,1.5037294462219732,1.5883095059023882,1.6588385209312282,1.6457683729325254,1.6070063701901744,1.5715067793410964,1.5516286096250296,1.58769161726194,1.5584449117135137,1.5935762838482717],\"type\":\"scatter\"},{\"line\":{\"color\":\"#00CED1\",\"width\":6},\"name\":\"Month 5\",\"visible\":false,\"x\":[\"2015-01\",\"2015-02\",\"2015-03\",\"2015-04\",\"2015-05\",\"2015-06\",\"2015-07\",\"2015-08\",\"2015-09\",\"2015-10\",\"2015-11\",\"2015-12\",\"2016-01\",\"2016-02\",\"2016-03\",\"2016-04\",\"2016-05\",\"2016-06\",\"2016-07\",\"2016-08\",\"2016-09\",\"2016-10\",\"2016-11\",\"2016-12\"],\"y\":[1.7218292565134317,1.7575716034549551,1.7822302338944926,1.717288912638201,1.6800239911174337,1.6319703014757403,1.6122828966878309,1.547153605343965,1.5144408583241138,1.5037294462219732,1.5883095059023882,1.6588385209312282,1.6457683729325254,1.6070063701901744,1.5715067793410964,1.5516286096250296,1.58769161726194,1.5584449117135137,1.5935762838482717],\"type\":\"scatter\"},{\"line\":{\"color\":\"#00CED1\",\"width\":6},\"name\":\"Month 6\",\"visible\":false,\"x\":[\"2015-01\",\"2015-02\",\"2015-03\",\"2015-04\",\"2015-05\",\"2015-06\",\"2015-07\",\"2015-08\",\"2015-09\",\"2015-10\",\"2015-11\",\"2015-12\",\"2016-01\",\"2016-02\",\"2016-03\",\"2016-04\",\"2016-05\",\"2016-06\",\"2016-07\",\"2016-08\",\"2016-09\",\"2016-10\",\"2016-11\",\"2016-12\"],\"y\":[1.7575716034549551,1.7822302338944926,1.717288912638201,1.6800239911174337,1.6319703014757403,1.6122828966878309,1.547153605343965,1.5144408583241138,1.5037294462219732,1.5883095059023882,1.6588385209312282,1.6457683729325254,1.6070063701901744,1.5715067793410964,1.5516286096250296,1.58769161726194,1.5584449117135137,1.5935762838482717],\"type\":\"scatter\"},{\"line\":{\"color\":\"#00CED1\",\"width\":6},\"name\":\"Month 7\",\"visible\":false,\"x\":[\"2015-01\",\"2015-02\",\"2015-03\",\"2015-04\",\"2015-05\",\"2015-06\",\"2015-07\",\"2015-08\",\"2015-09\",\"2015-10\",\"2015-11\",\"2015-12\",\"2016-01\",\"2016-02\",\"2016-03\",\"2016-04\",\"2016-05\",\"2016-06\",\"2016-07\",\"2016-08\",\"2016-09\",\"2016-10\",\"2016-11\",\"2016-12\"],\"y\":[1.7822302338944926,1.717288912638201,1.6800239911174337,1.6319703014757403,1.6122828966878309,1.547153605343965,1.5144408583241138,1.5037294462219732,1.5883095059023882,1.6588385209312282,1.6457683729325254,1.6070063701901744,1.5715067793410964,1.5516286096250296,1.58769161726194,1.5584449117135137,1.5935762838482717],\"type\":\"scatter\"},{\"line\":{\"color\":\"#00CED1\",\"width\":6},\"name\":\"Month 8\",\"visible\":false,\"x\":[\"2015-01\",\"2015-02\",\"2015-03\",\"2015-04\",\"2015-05\",\"2015-06\",\"2015-07\",\"2015-08\",\"2015-09\",\"2015-10\",\"2015-11\",\"2015-12\",\"2016-01\",\"2016-02\",\"2016-03\",\"2016-04\",\"2016-05\",\"2016-06\",\"2016-07\",\"2016-08\",\"2016-09\",\"2016-10\",\"2016-11\",\"2016-12\"],\"y\":[1.717288912638201,1.6800239911174337,1.6319703014757403,1.6122828966878309,1.547153605343965,1.5144408583241138,1.5037294462219732,1.5883095059023882,1.6588385209312282,1.6457683729325254,1.6070063701901744,1.5715067793410964,1.5516286096250296,1.58769161726194,1.5584449117135137,1.5935762838482717],\"type\":\"scatter\"},{\"line\":{\"color\":\"#00CED1\",\"width\":6},\"name\":\"Month 9\",\"visible\":false,\"x\":[\"2015-01\",\"2015-02\",\"2015-03\",\"2015-04\",\"2015-05\",\"2015-06\",\"2015-07\",\"2015-08\",\"2015-09\",\"2015-10\",\"2015-11\",\"2015-12\",\"2016-01\",\"2016-02\",\"2016-03\",\"2016-04\",\"2016-05\",\"2016-06\",\"2016-07\",\"2016-08\",\"2016-09\",\"2016-10\",\"2016-11\",\"2016-12\"],\"y\":[1.6800239911174337,1.6319703014757403,1.6122828966878309,1.547153605343965,1.5144408583241138,1.5037294462219732,1.5883095059023882,1.6588385209312282,1.6457683729325254,1.6070063701901744,1.5715067793410964,1.5516286096250296,1.58769161726194,1.5584449117135137,1.5935762838482717],\"type\":\"scatter\"},{\"line\":{\"color\":\"#00CED1\",\"width\":6},\"name\":\"Month 10\",\"visible\":false,\"x\":[\"2015-01\",\"2015-02\",\"2015-03\",\"2015-04\",\"2015-05\",\"2015-06\",\"2015-07\",\"2015-08\",\"2015-09\",\"2015-10\",\"2015-11\",\"2015-12\",\"2016-01\",\"2016-02\",\"2016-03\",\"2016-04\",\"2016-05\",\"2016-06\",\"2016-07\",\"2016-08\",\"2016-09\",\"2016-10\",\"2016-11\",\"2016-12\"],\"y\":[1.6319703014757403,1.6122828966878309,1.547153605343965,1.5144408583241138,1.5037294462219732,1.5883095059023882,1.6588385209312282,1.6457683729325254,1.6070063701901744,1.5715067793410964,1.5516286096250296,1.58769161726194,1.5584449117135137,1.5935762838482717],\"type\":\"scatter\"},{\"line\":{\"color\":\"#00CED1\",\"width\":6},\"name\":\"Month 11\",\"visible\":false,\"x\":[\"2015-01\",\"2015-02\",\"2015-03\",\"2015-04\",\"2015-05\",\"2015-06\",\"2015-07\",\"2015-08\",\"2015-09\",\"2015-10\",\"2015-11\",\"2015-12\",\"2016-01\",\"2016-02\",\"2016-03\",\"2016-04\",\"2016-05\",\"2016-06\",\"2016-07\",\"2016-08\",\"2016-09\",\"2016-10\",\"2016-11\",\"2016-12\"],\"y\":[1.6122828966878309,1.547153605343965,1.5144408583241138,1.5037294462219732,1.5883095059023882,1.6588385209312282,1.6457683729325254,1.6070063701901744,1.5715067793410964,1.5516286096250296,1.58769161726194,1.5584449117135137,1.5935762838482717],\"type\":\"scatter\"},{\"line\":{\"color\":\"#00CED1\",\"width\":6},\"name\":\"Month 12\",\"visible\":false,\"x\":[\"2015-01\",\"2015-02\",\"2015-03\",\"2015-04\",\"2015-05\",\"2015-06\",\"2015-07\",\"2015-08\",\"2015-09\",\"2015-10\",\"2015-11\",\"2015-12\",\"2016-01\",\"2016-02\",\"2016-03\",\"2016-04\",\"2016-05\",\"2016-06\",\"2016-07\",\"2016-08\",\"2016-09\",\"2016-10\",\"2016-11\",\"2016-12\"],\"y\":[1.547153605343965,1.5144408583241138,1.5037294462219732,1.5883095059023882,1.6588385209312282,1.6457683729325254,1.6070063701901744,1.5715067793410964,1.5516286096250296,1.58769161726194,1.5584449117135137,1.5935762838482717],\"type\":\"scatter\"},{\"line\":{\"color\":\"#00CED1\",\"width\":6},\"name\":\"Month 13\",\"visible\":false,\"x\":[\"2015-01\",\"2015-02\",\"2015-03\",\"2015-04\",\"2015-05\",\"2015-06\",\"2015-07\",\"2015-08\",\"2015-09\",\"2015-10\",\"2015-11\",\"2015-12\",\"2016-01\",\"2016-02\",\"2016-03\",\"2016-04\",\"2016-05\",\"2016-06\",\"2016-07\",\"2016-08\",\"2016-09\",\"2016-10\",\"2016-11\",\"2016-12\"],\"y\":[1.5144408583241138,1.5037294462219732,1.5883095059023882,1.6588385209312282,1.6457683729325254,1.6070063701901744,1.5715067793410964,1.5516286096250296,1.58769161726194,1.5584449117135137,1.5935762838482717],\"type\":\"scatter\"},{\"line\":{\"color\":\"#00CED1\",\"width\":6},\"name\":\"Month 14\",\"visible\":false,\"x\":[\"2015-01\",\"2015-02\",\"2015-03\",\"2015-04\",\"2015-05\",\"2015-06\",\"2015-07\",\"2015-08\",\"2015-09\",\"2015-10\",\"2015-11\",\"2015-12\",\"2016-01\",\"2016-02\",\"2016-03\",\"2016-04\",\"2016-05\",\"2016-06\",\"2016-07\",\"2016-08\",\"2016-09\",\"2016-10\",\"2016-11\",\"2016-12\"],\"y\":[1.5037294462219732,1.5883095059023882,1.6588385209312282,1.6457683729325254,1.6070063701901744,1.5715067793410964,1.5516286096250296,1.58769161726194,1.5584449117135137,1.5935762838482717],\"type\":\"scatter\"},{\"line\":{\"color\":\"#00CED1\",\"width\":6},\"name\":\"Month 15\",\"visible\":false,\"x\":[\"2015-01\",\"2015-02\",\"2015-03\",\"2015-04\",\"2015-05\",\"2015-06\",\"2015-07\",\"2015-08\",\"2015-09\",\"2015-10\",\"2015-11\",\"2015-12\",\"2016-01\",\"2016-02\",\"2016-03\",\"2016-04\",\"2016-05\",\"2016-06\",\"2016-07\",\"2016-08\",\"2016-09\",\"2016-10\",\"2016-11\",\"2016-12\"],\"y\":[1.5883095059023882,1.6588385209312282,1.6457683729325254,1.6070063701901744,1.5715067793410964,1.5516286096250296,1.58769161726194,1.5584449117135137,1.5935762838482717],\"type\":\"scatter\"},{\"line\":{\"color\":\"#00CED1\",\"width\":6},\"name\":\"Month 16\",\"visible\":false,\"x\":[\"2015-01\",\"2015-02\",\"2015-03\",\"2015-04\",\"2015-05\",\"2015-06\",\"2015-07\",\"2015-08\",\"2015-09\",\"2015-10\",\"2015-11\",\"2015-12\",\"2016-01\",\"2016-02\",\"2016-03\",\"2016-04\",\"2016-05\",\"2016-06\",\"2016-07\",\"2016-08\",\"2016-09\",\"2016-10\",\"2016-11\",\"2016-12\"],\"y\":[1.6588385209312282,1.6457683729325254,1.6070063701901744,1.5715067793410964,1.5516286096250296,1.58769161726194,1.5584449117135137,1.5935762838482717],\"type\":\"scatter\"},{\"line\":{\"color\":\"#00CED1\",\"width\":6},\"name\":\"Month 17\",\"visible\":false,\"x\":[\"2015-01\",\"2015-02\",\"2015-03\",\"2015-04\",\"2015-05\",\"2015-06\",\"2015-07\",\"2015-08\",\"2015-09\",\"2015-10\",\"2015-11\",\"2015-12\",\"2016-01\",\"2016-02\",\"2016-03\",\"2016-04\",\"2016-05\",\"2016-06\",\"2016-07\",\"2016-08\",\"2016-09\",\"2016-10\",\"2016-11\",\"2016-12\"],\"y\":[1.6457683729325254,1.6070063701901744,1.5715067793410964,1.5516286096250296,1.58769161726194,1.5584449117135137,1.5935762838482717],\"type\":\"scatter\"},{\"line\":{\"color\":\"#00CED1\",\"width\":6},\"name\":\"Month 18\",\"visible\":false,\"x\":[\"2015-01\",\"2015-02\",\"2015-03\",\"2015-04\",\"2015-05\",\"2015-06\",\"2015-07\",\"2015-08\",\"2015-09\",\"2015-10\",\"2015-11\",\"2015-12\",\"2016-01\",\"2016-02\",\"2016-03\",\"2016-04\",\"2016-05\",\"2016-06\",\"2016-07\",\"2016-08\",\"2016-09\",\"2016-10\",\"2016-11\",\"2016-12\"],\"y\":[1.6070063701901744,1.5715067793410964,1.5516286096250296,1.58769161726194,1.5584449117135137,1.5935762838482717],\"type\":\"scatter\"},{\"line\":{\"color\":\"#00CED1\",\"width\":6},\"name\":\"Month 19\",\"visible\":false,\"x\":[\"2015-01\",\"2015-02\",\"2015-03\",\"2015-04\",\"2015-05\",\"2015-06\",\"2015-07\",\"2015-08\",\"2015-09\",\"2015-10\",\"2015-11\",\"2015-12\",\"2016-01\",\"2016-02\",\"2016-03\",\"2016-04\",\"2016-05\",\"2016-06\",\"2016-07\",\"2016-08\",\"2016-09\",\"2016-10\",\"2016-11\",\"2016-12\"],\"y\":[1.5715067793410964,1.5516286096250296,1.58769161726194,1.5584449117135137,1.5935762838482717],\"type\":\"scatter\"},{\"line\":{\"color\":\"#00CED1\",\"width\":6},\"name\":\"Month 20\",\"visible\":false,\"x\":[\"2015-01\",\"2015-02\",\"2015-03\",\"2015-04\",\"2015-05\",\"2015-06\",\"2015-07\",\"2015-08\",\"2015-09\",\"2015-10\",\"2015-11\",\"2015-12\",\"2016-01\",\"2016-02\",\"2016-03\",\"2016-04\",\"2016-05\",\"2016-06\",\"2016-07\",\"2016-08\",\"2016-09\",\"2016-10\",\"2016-11\",\"2016-12\"],\"y\":[1.5516286096250296,1.58769161726194,1.5584449117135137,1.5935762838482717],\"type\":\"scatter\"},{\"line\":{\"color\":\"#00CED1\",\"width\":6},\"name\":\"Month 21\",\"visible\":false,\"x\":[\"2015-01\",\"2015-02\",\"2015-03\",\"2015-04\",\"2015-05\",\"2015-06\",\"2015-07\",\"2015-08\",\"2015-09\",\"2015-10\",\"2015-11\",\"2015-12\",\"2016-01\",\"2016-02\",\"2016-03\",\"2016-04\",\"2016-05\",\"2016-06\",\"2016-07\",\"2016-08\",\"2016-09\",\"2016-10\",\"2016-11\",\"2016-12\"],\"y\":[1.58769161726194,1.5584449117135137,1.5935762838482717],\"type\":\"scatter\"},{\"line\":{\"color\":\"#00CED1\",\"width\":6},\"name\":\"Month 22\",\"visible\":false,\"x\":[\"2015-01\",\"2015-02\",\"2015-03\",\"2015-04\",\"2015-05\",\"2015-06\",\"2015-07\",\"2015-08\",\"2015-09\",\"2015-10\",\"2015-11\",\"2015-12\",\"2016-01\",\"2016-02\",\"2016-03\",\"2016-04\",\"2016-05\",\"2016-06\",\"2016-07\",\"2016-08\",\"2016-09\",\"2016-10\",\"2016-11\",\"2016-12\"],\"y\":[1.5584449117135137,1.5935762838482717],\"type\":\"scatter\"},{\"line\":{\"color\":\"#00CED1\",\"width\":6},\"name\":\"Month 23\",\"visible\":false,\"x\":[\"2015-01\",\"2015-02\",\"2015-03\",\"2015-04\",\"2015-05\",\"2015-06\",\"2015-07\",\"2015-08\",\"2015-09\",\"2015-10\",\"2015-11\",\"2015-12\",\"2016-01\",\"2016-02\",\"2016-03\",\"2016-04\",\"2016-05\",\"2016-06\",\"2016-07\",\"2016-08\",\"2016-09\",\"2016-10\",\"2016-11\",\"2016-12\"],\"y\":[1.5935762838482717],\"type\":\"scatter\"}],                        {\"template\":{\"data\":{\"histogram2dcontour\":[{\"type\":\"histogram2dcontour\",\"colorbar\":{\"outlinewidth\":0,\"ticks\":\"\"},\"colorscale\":[[0.0,\"#0d0887\"],[0.1111111111111111,\"#46039f\"],[0.2222222222222222,\"#7201a8\"],[0.3333333333333333,\"#9c179e\"],[0.4444444444444444,\"#bd3786\"],[0.5555555555555556,\"#d8576b\"],[0.6666666666666666,\"#ed7953\"],[0.7777777777777778,\"#fb9f3a\"],[0.8888888888888888,\"#fdca26\"],[1.0,\"#f0f921\"]]}],\"choropleth\":[{\"type\":\"choropleth\",\"colorbar\":{\"outlinewidth\":0,\"ticks\":\"\"}}],\"histogram2d\":[{\"type\":\"histogram2d\",\"colorbar\":{\"outlinewidth\":0,\"ticks\":\"\"},\"colorscale\":[[0.0,\"#0d0887\"],[0.1111111111111111,\"#46039f\"],[0.2222222222222222,\"#7201a8\"],[0.3333333333333333,\"#9c179e\"],[0.4444444444444444,\"#bd3786\"],[0.5555555555555556,\"#d8576b\"],[0.6666666666666666,\"#ed7953\"],[0.7777777777777778,\"#fb9f3a\"],[0.8888888888888888,\"#fdca26\"],[1.0,\"#f0f921\"]]}],\"heatmap\":[{\"type\":\"heatmap\",\"colorbar\":{\"outlinewidth\":0,\"ticks\":\"\"},\"colorscale\":[[0.0,\"#0d0887\"],[0.1111111111111111,\"#46039f\"],[0.2222222222222222,\"#7201a8\"],[0.3333333333333333,\"#9c179e\"],[0.4444444444444444,\"#bd3786\"],[0.5555555555555556,\"#d8576b\"],[0.6666666666666666,\"#ed7953\"],[0.7777777777777778,\"#fb9f3a\"],[0.8888888888888888,\"#fdca26\"],[1.0,\"#f0f921\"]]}],\"heatmapgl\":[{\"type\":\"heatmapgl\",\"colorbar\":{\"outlinewidth\":0,\"ticks\":\"\"},\"colorscale\":[[0.0,\"#0d0887\"],[0.1111111111111111,\"#46039f\"],[0.2222222222222222,\"#7201a8\"],[0.3333333333333333,\"#9c179e\"],[0.4444444444444444,\"#bd3786\"],[0.5555555555555556,\"#d8576b\"],[0.6666666666666666,\"#ed7953\"],[0.7777777777777778,\"#fb9f3a\"],[0.8888888888888888,\"#fdca26\"],[1.0,\"#f0f921\"]]}],\"contourcarpet\":[{\"type\":\"contourcarpet\",\"colorbar\":{\"outlinewidth\":0,\"ticks\":\"\"}}],\"contour\":[{\"type\":\"contour\",\"colorbar\":{\"outlinewidth\":0,\"ticks\":\"\"},\"colorscale\":[[0.0,\"#0d0887\"],[0.1111111111111111,\"#46039f\"],[0.2222222222222222,\"#7201a8\"],[0.3333333333333333,\"#9c179e\"],[0.4444444444444444,\"#bd3786\"],[0.5555555555555556,\"#d8576b\"],[0.6666666666666666,\"#ed7953\"],[0.7777777777777778,\"#fb9f3a\"],[0.8888888888888888,\"#fdca26\"],[1.0,\"#f0f921\"]]}],\"surface\":[{\"type\":\"surface\",\"colorbar\":{\"outlinewidth\":0,\"ticks\":\"\"},\"colorscale\":[[0.0,\"#0d0887\"],[0.1111111111111111,\"#46039f\"],[0.2222222222222222,\"#7201a8\"],[0.3333333333333333,\"#9c179e\"],[0.4444444444444444,\"#bd3786\"],[0.5555555555555556,\"#d8576b\"],[0.6666666666666666,\"#ed7953\"],[0.7777777777777778,\"#fb9f3a\"],[0.8888888888888888,\"#fdca26\"],[1.0,\"#f0f921\"]]}],\"mesh3d\":[{\"type\":\"mesh3d\",\"colorbar\":{\"outlinewidth\":0,\"ticks\":\"\"}}],\"scatter\":[{\"fillpattern\":{\"fillmode\":\"overlay\",\"size\":10,\"solidity\":0.2},\"type\":\"scatter\"}],\"parcoords\":[{\"type\":\"parcoords\",\"line\":{\"colorbar\":{\"outlinewidth\":0,\"ticks\":\"\"}}}],\"scatterpolargl\":[{\"type\":\"scatterpolargl\",\"marker\":{\"colorbar\":{\"outlinewidth\":0,\"ticks\":\"\"}}}],\"bar\":[{\"error_x\":{\"color\":\"#2a3f5f\"},\"error_y\":{\"color\":\"#2a3f5f\"},\"marker\":{\"line\":{\"color\":\"#E5ECF6\",\"width\":0.5},\"pattern\":{\"fillmode\":\"overlay\",\"size\":10,\"solidity\":0.2}},\"type\":\"bar\"}],\"scattergeo\":[{\"type\":\"scattergeo\",\"marker\":{\"colorbar\":{\"outlinewidth\":0,\"ticks\":\"\"}}}],\"scatterpolar\":[{\"type\":\"scatterpolar\",\"marker\":{\"colorbar\":{\"outlinewidth\":0,\"ticks\":\"\"}}}],\"histogram\":[{\"marker\":{\"pattern\":{\"fillmode\":\"overlay\",\"size\":10,\"solidity\":0.2}},\"type\":\"histogram\"}],\"scattergl\":[{\"type\":\"scattergl\",\"marker\":{\"colorbar\":{\"outlinewidth\":0,\"ticks\":\"\"}}}],\"scatter3d\":[{\"type\":\"scatter3d\",\"line\":{\"colorbar\":{\"outlinewidth\":0,\"ticks\":\"\"}},\"marker\":{\"colorbar\":{\"outlinewidth\":0,\"ticks\":\"\"}}}],\"scattermapbox\":[{\"type\":\"scattermapbox\",\"marker\":{\"colorbar\":{\"outlinewidth\":0,\"ticks\":\"\"}}}],\"scatterternary\":[{\"type\":\"scatterternary\",\"marker\":{\"colorbar\":{\"outlinewidth\":0,\"ticks\":\"\"}}}],\"scattercarpet\":[{\"type\":\"scattercarpet\",\"marker\":{\"colorbar\":{\"outlinewidth\":0,\"ticks\":\"\"}}}],\"carpet\":[{\"aaxis\":{\"endlinecolor\":\"#2a3f5f\",\"gridcolor\":\"white\",\"linecolor\":\"white\",\"minorgridcolor\":\"white\",\"startlinecolor\":\"#2a3f5f\"},\"baxis\":{\"endlinecolor\":\"#2a3f5f\",\"gridcolor\":\"white\",\"linecolor\":\"white\",\"minorgridcolor\":\"white\",\"startlinecolor\":\"#2a3f5f\"},\"type\":\"carpet\"}],\"table\":[{\"cells\":{\"fill\":{\"color\":\"#EBF0F8\"},\"line\":{\"color\":\"white\"}},\"header\":{\"fill\":{\"color\":\"#C8D4E3\"},\"line\":{\"color\":\"white\"}},\"type\":\"table\"}],\"barpolar\":[{\"marker\":{\"line\":{\"color\":\"#E5ECF6\",\"width\":0.5},\"pattern\":{\"fillmode\":\"overlay\",\"size\":10,\"solidity\":0.2}},\"type\":\"barpolar\"}],\"pie\":[{\"automargin\":true,\"type\":\"pie\"}]},\"layout\":{\"autotypenumbers\":\"strict\",\"colorway\":[\"#636efa\",\"#EF553B\",\"#00cc96\",\"#ab63fa\",\"#FFA15A\",\"#19d3f3\",\"#FF6692\",\"#B6E880\",\"#FF97FF\",\"#FECB52\"],\"font\":{\"color\":\"#2a3f5f\"},\"hovermode\":\"closest\",\"hoverlabel\":{\"align\":\"left\"},\"paper_bgcolor\":\"white\",\"plot_bgcolor\":\"#E5ECF6\",\"polar\":{\"bgcolor\":\"#E5ECF6\",\"angularaxis\":{\"gridcolor\":\"white\",\"linecolor\":\"white\",\"ticks\":\"\"},\"radialaxis\":{\"gridcolor\":\"white\",\"linecolor\":\"white\",\"ticks\":\"\"}},\"ternary\":{\"bgcolor\":\"#E5ECF6\",\"aaxis\":{\"gridcolor\":\"white\",\"linecolor\":\"white\",\"ticks\":\"\"},\"baxis\":{\"gridcolor\":\"white\",\"linecolor\":\"white\",\"ticks\":\"\"},\"caxis\":{\"gridcolor\":\"white\",\"linecolor\":\"white\",\"ticks\":\"\"}},\"coloraxis\":{\"colorbar\":{\"outlinewidth\":0,\"ticks\":\"\"}},\"colorscale\":{\"sequential\":[[0.0,\"#0d0887\"],[0.1111111111111111,\"#46039f\"],[0.2222222222222222,\"#7201a8\"],[0.3333333333333333,\"#9c179e\"],[0.4444444444444444,\"#bd3786\"],[0.5555555555555556,\"#d8576b\"],[0.6666666666666666,\"#ed7953\"],[0.7777777777777778,\"#fb9f3a\"],[0.8888888888888888,\"#fdca26\"],[1.0,\"#f0f921\"]],\"sequentialminus\":[[0.0,\"#0d0887\"],[0.1111111111111111,\"#46039f\"],[0.2222222222222222,\"#7201a8\"],[0.3333333333333333,\"#9c179e\"],[0.4444444444444444,\"#bd3786\"],[0.5555555555555556,\"#d8576b\"],[0.6666666666666666,\"#ed7953\"],[0.7777777777777778,\"#fb9f3a\"],[0.8888888888888888,\"#fdca26\"],[1.0,\"#f0f921\"]],\"diverging\":[[0,\"#8e0152\"],[0.1,\"#c51b7d\"],[0.2,\"#de77ae\"],[0.3,\"#f1b6da\"],[0.4,\"#fde0ef\"],[0.5,\"#f7f7f7\"],[0.6,\"#e6f5d0\"],[0.7,\"#b8e186\"],[0.8,\"#7fbc41\"],[0.9,\"#4d9221\"],[1,\"#276419\"]]},\"xaxis\":{\"gridcolor\":\"white\",\"linecolor\":\"white\",\"ticks\":\"\",\"title\":{\"standoff\":15},\"zerolinecolor\":\"white\",\"automargin\":true,\"zerolinewidth\":2},\"yaxis\":{\"gridcolor\":\"white\",\"linecolor\":\"white\",\"ticks\":\"\",\"title\":{\"standoff\":15},\"zerolinecolor\":\"white\",\"automargin\":true,\"zerolinewidth\":2},\"scene\":{\"xaxis\":{\"backgroundcolor\":\"#E5ECF6\",\"gridcolor\":\"white\",\"linecolor\":\"white\",\"showbackground\":true,\"ticks\":\"\",\"zerolinecolor\":\"white\",\"gridwidth\":2},\"yaxis\":{\"backgroundcolor\":\"#E5ECF6\",\"gridcolor\":\"white\",\"linecolor\":\"white\",\"showbackground\":true,\"ticks\":\"\",\"zerolinecolor\":\"white\",\"gridwidth\":2},\"zaxis\":{\"backgroundcolor\":\"#E5ECF6\",\"gridcolor\":\"white\",\"linecolor\":\"white\",\"showbackground\":true,\"ticks\":\"\",\"zerolinecolor\":\"white\",\"gridwidth\":2}},\"shapedefaults\":{\"line\":{\"color\":\"#2a3f5f\"}},\"annotationdefaults\":{\"arrowcolor\":\"#2a3f5f\",\"arrowhead\":0,\"arrowwidth\":1},\"geo\":{\"bgcolor\":\"white\",\"landcolor\":\"#E5ECF6\",\"subunitcolor\":\"white\",\"showland\":true,\"showlakes\":true,\"lakecolor\":\"white\"},\"title\":{\"x\":0.05},\"mapbox\":{\"style\":\"light\"}}},\"xaxis\":{\"tickformat\":\"%Y-%m\"},\"sliders\":[{\"active\":0,\"currentvalue\":{\"prefix\":\"Date: \"},\"pad\":{\"t\":24},\"steps\":[{\"args\":[{\"visible\":[true,false,false,false,false,false,false,false,false,false,false,false,false,false,false,false,false,false,false,false,false,false,false,false]}],\"label\":\"2015-01\",\"method\":\"restyle\"},{\"args\":[{\"visible\":[false,true,false,false,false,false,false,false,false,false,false,false,false,false,false,false,false,false,false,false,false,false,false,false]}],\"label\":\"2015-02\",\"method\":\"restyle\"},{\"args\":[{\"visible\":[false,false,true,false,false,false,false,false,false,false,false,false,false,false,false,false,false,false,false,false,false,false,false,false]}],\"label\":\"2015-03\",\"method\":\"restyle\"},{\"args\":[{\"visible\":[false,false,false,true,false,false,false,false,false,false,false,false,false,false,false,false,false,false,false,false,false,false,false,false]}],\"label\":\"2015-04\",\"method\":\"restyle\"},{\"args\":[{\"visible\":[false,false,false,false,true,false,false,false,false,false,false,false,false,false,false,false,false,false,false,false,false,false,false,false]}],\"label\":\"2015-05\",\"method\":\"restyle\"},{\"args\":[{\"visible\":[false,false,false,false,false,true,false,false,false,false,false,false,false,false,false,false,false,false,false,false,false,false,false,false]}],\"label\":\"2015-06\",\"method\":\"restyle\"},{\"args\":[{\"visible\":[false,false,false,false,false,false,true,false,false,false,false,false,false,false,false,false,false,false,false,false,false,false,false,false]}],\"label\":\"2015-07\",\"method\":\"restyle\"},{\"args\":[{\"visible\":[false,false,false,false,false,false,false,true,false,false,false,false,false,false,false,false,false,false,false,false,false,false,false,false]}],\"label\":\"2015-08\",\"method\":\"restyle\"},{\"args\":[{\"visible\":[false,false,false,false,false,false,false,false,true,false,false,false,false,false,false,false,false,false,false,false,false,false,false,false]}],\"label\":\"2015-09\",\"method\":\"restyle\"},{\"args\":[{\"visible\":[false,false,false,false,false,false,false,false,false,true,false,false,false,false,false,false,false,false,false,false,false,false,false,false]}],\"label\":\"2015-10\",\"method\":\"restyle\"},{\"args\":[{\"visible\":[false,false,false,false,false,false,false,false,false,false,true,false,false,false,false,false,false,false,false,false,false,false,false,false]}],\"label\":\"2015-11\",\"method\":\"restyle\"},{\"args\":[{\"visible\":[false,false,false,false,false,false,false,false,false,false,false,true,false,false,false,false,false,false,false,false,false,false,false,false]}],\"label\":\"2015-12\",\"method\":\"restyle\"},{\"args\":[{\"visible\":[false,false,false,false,false,false,false,false,false,false,false,false,true,false,false,false,false,false,false,false,false,false,false,false]}],\"label\":\"2016-01\",\"method\":\"restyle\"},{\"args\":[{\"visible\":[false,false,false,false,false,false,false,false,false,false,false,false,false,true,false,false,false,false,false,false,false,false,false,false]}],\"label\":\"2016-02\",\"method\":\"restyle\"},{\"args\":[{\"visible\":[false,false,false,false,false,false,false,false,false,false,false,false,false,false,true,false,false,false,false,false,false,false,false,false]}],\"label\":\"2016-03\",\"method\":\"restyle\"},{\"args\":[{\"visible\":[false,false,false,false,false,false,false,false,false,false,false,false,false,false,false,true,false,false,false,false,false,false,false,false]}],\"label\":\"2016-04\",\"method\":\"restyle\"},{\"args\":[{\"visible\":[false,false,false,false,false,false,false,false,false,false,false,false,false,false,false,false,true,false,false,false,false,false,false,false]}],\"label\":\"2016-05\",\"method\":\"restyle\"},{\"args\":[{\"visible\":[false,false,false,false,false,false,false,false,false,false,false,false,false,false,false,false,false,true,false,false,false,false,false,false]}],\"label\":\"2016-06\",\"method\":\"restyle\"},{\"args\":[{\"visible\":[false,false,false,false,false,false,false,false,false,false,false,false,false,false,false,false,false,false,true,false,false,false,false,false]}],\"label\":\"2016-07\",\"method\":\"restyle\"},{\"args\":[{\"visible\":[false,false,false,false,false,false,false,false,false,false,false,false,false,false,false,false,false,false,false,true,false,false,false,false]}],\"label\":\"2016-08\",\"method\":\"restyle\"},{\"args\":[{\"visible\":[false,false,false,false,false,false,false,false,false,false,false,false,false,false,false,false,false,false,false,false,true,false,false,false]}],\"label\":\"2016-09\",\"method\":\"restyle\"},{\"args\":[{\"visible\":[false,false,false,false,false,false,false,false,false,false,false,false,false,false,false,false,false,false,false,false,false,true,false,false]}],\"label\":\"2016-10\",\"method\":\"restyle\"},{\"args\":[{\"visible\":[false,false,false,false,false,false,false,false,false,false,false,false,false,false,false,false,false,false,false,false,false,false,true,false]}],\"label\":\"2016-11\",\"method\":\"restyle\"},{\"args\":[{\"visible\":[false,false,false,false,false,false,false,false,false,false,false,false,false,false,false,false,false,false,false,false,false,false,false,true]}],\"label\":\"2016-12\",\"method\":\"restyle\"}]}],\"height\":600,\"title\":{\"text\":\"ISCRI USA-CHN\"},\"yaxis\":{\"title\":{\"text\":\"ISCRI\"}}},                        {\"responsive\": true}                    ).then(function(){\n",
       "                            \n",
       "var gd = document.getElementById('b58cc82b-4809-4db2-ac8d-24410a91b375');\n",
       "var x = new MutationObserver(function (mutations, observer) {{\n",
       "        var display = window.getComputedStyle(gd).display;\n",
       "        if (!display || display === 'none') {{\n",
       "            console.log([gd, 'removed!']);\n",
       "            Plotly.purge(gd);\n",
       "            observer.disconnect();\n",
       "        }}\n",
       "}});\n",
       "\n",
       "// Listen for the removal of the full notebook cells\n",
       "var notebookContainer = gd.closest('#notebook-container');\n",
       "if (notebookContainer) {{\n",
       "    x.observe(notebookContainer, {childList: true});\n",
       "}}\n",
       "\n",
       "// Listen for the clearing of the current output cell\n",
       "var outputEl = gd.closest('.output');\n",
       "if (outputEl) {{\n",
       "    x.observe(outputEl, {childList: true});\n",
       "}}\n",
       "\n",
       "                        })                };                });            </script>        </div>"
      ]
     },
     "metadata": {},
     "output_type": "display_data"
    }
   ],
   "source": [
    "fig = go.Figure()\n",
    "\n",
    "for step in np.arange(len(df)):\n",
    "    fig.add_trace(\n",
    "        go.Scatter(\n",
    "            visible=False,\n",
    "            line=dict(color=\"#00CED1\", width=6),\n",
    "            name=f\"Month {step}\",\n",
    "            x=df.year_month,\n",
    "            y=df.iscri[step:],\n",
    "        ))\n",
    "\n",
    "fig.data[0].visible = True\n",
    "\n",
    "steps = []\n",
    "for index, row in df.iterrows():\n",
    "    step = dict(\n",
    "        method=\"update\",\n",
    "        args=[{\"visible\": [False] * len(fig.data)},\n",
    "              # {\"title\": f\"Date: {row['year']}-{row['month']:02d}\"},\n",
    "             ],\n",
    "        label=f\"{row['year']}-{row['month']:02d}\",\n",
    "    )\n",
    "    step[\"args\"][0][\"visible\"][index] = True\n",
    "    steps.append(step)\n",
    "    \n",
    "sliders = [dict(\n",
    "    active=0,\n",
    "    currentvalue={\"prefix\": \"Date: \"},\n",
    "    pad={\"t\": len(df)},\n",
    "    steps=steps\n",
    ")]\n",
    "\n",
    "fig.update_layout(\n",
    "    sliders=sliders,\n",
    "    height=600,\n",
    "    title=\"ISCRI USA-CHN\",\n",
    "    # xaxis_title=\"Date\",\n",
    "    yaxis_title=\"ISCRI\",\n",
    "    # legend_title=\"Legend\",\n",
    "    xaxis=dict(tickformat=\"%Y-%m\")\n",
    ")\n",
    "#fig.update_yaxes(range=[1.4, 1.8])\n",
    "# fig.write_html(\"data/out.html\")\n",
    "fig.show()"
   ]
  },
  {
   "cell_type": "code",
   "execution_count": null,
   "id": "e72719a6-017c-46ec-9d10-3ad4e9eba349",
   "metadata": {},
   "outputs": [],
   "source": []
  }
 ],
 "metadata": {
  "kernelspec": {
   "display_name": "Python 3 (ipykernel)",
   "language": "python",
   "name": "python3"
  },
  "language_info": {
   "codemirror_mode": {
    "name": "ipython",
    "version": 3
   },
   "file_extension": ".py",
   "mimetype": "text/x-python",
   "name": "python",
   "nbconvert_exporter": "python",
   "pygments_lexer": "ipython3",
   "version": "3.12.0"
  }
 },
 "nbformat": 4,
 "nbformat_minor": 5
}
