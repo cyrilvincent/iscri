{
 "cells": [
  {
   "cell_type": "code",
   "execution_count": 17,
   "id": "7f123864-7952-4a24-bf41-f538ab8aa47a",
   "metadata": {},
   "outputs": [
    {
     "name": "stdout",
     "output_type": "stream",
     "text": [
      " _____   _____   _____  _____   _____ \n",
      "|_   _| / ____| / ____||  __ \\ |_   _|\n",
      "  | |  | (___  | |     | |__) |  | |  \n",
      "  | |   \\___ \\ | |     |  _  /   | |  \n",
      " _| |_  ____) || |____ | | \\ \\  _| |_ \n",
      "|_____||_____/  \\_____||_|  \\_\\|_____|\n",
      "                                      \n",
      "                                      \n",
      "\n",
      "3.12.0 (tags/v3.12.0:0fb18b0, Oct  2 2023, 13:03:39) [MSC v.1935 64 bit (AMD64)] 0.1.0.Alpha 4.2.5 5.24.1 8.1.5\n"
     ]
    }
   ],
   "source": [
    "import sys\n",
    "import sqlalchemy\n",
    "import config\n",
    "import pandas as pd\n",
    "import art\n",
    "import psycopg2\n",
    "import jupyterlab\n",
    "import ipywidgets\n",
    "import matplotlib.pyplot as plt\n",
    "import plotly.graph_objects as go\n",
    "import plotly\n",
    "import numpy as np\n",
    "from dbcontext import Context\n",
    "from jupyter_service import JupyterService\n",
    "art.tprint(config.name, \"big\")\n",
    "print(sys.version, config.version, jupyterlab.__version__, plotly.__version__, ipywidgets.__version__)"
   ]
  },
  {
   "cell_type": "code",
   "execution_count": 40,
   "id": "4be44421-198a-40f0-96fe-f28328c25b46",
   "metadata": {},
   "outputs": [
    {
     "name": "stdout",
     "output_type": "stream",
     "text": [
      " _____   _____   _____  _____   _____ \n",
      "|_   _| / ____| / ____||  __ \\ |_   _|\n",
      "  | |  | (___  | |     | |__) |  | |  \n",
      "  | |   \\___ \\ | |     |  _  /   | |  \n",
      " _| |_  ____) || |____ | | \\ \\  _| |_ \n",
      "|_____||_____/  \\_____||_|  \\_\\|_____|\n",
      "                                      \n",
      "                                      \n",
      "\n",
      "3.12.0 (tags/v3.12.0:0fb18b0, Oct  2 2023, 13:03:39) [MSC v.1935 64 bit (AMD64)] 0.1.0.Alpha 4.2.5 5.24.1 8.1.5\n"
     ]
    }
   ],
   "source": [
    "import sys\n",
    "import sqlalchemy\n",
    "import config\n",
    "import pandas as pd\n",
    "import art\n",
    "import psycopg2\n",
    "import jupyterlab\n",
    "import ipywidgets\n",
    "import matplotlib.pyplot as plt\n",
    "import plotly.graph_objects as go\n",
    "import plotly\n",
    "import numpy as np\n",
    "from dbcontext import Context\n",
    "from jupyter_service import JupyterService\n",
    "art.tprint(config.name, \"big\")\n",
    "print(sys.version, config.version, jupyterlab.__version__, plotly.__version__, ipywidgets.__version__)"
   ]
  },
  {
   "cell_type": "code",
   "execution_count": 3,
   "id": "ab2ce1b3-a432-4ced-8bcb-43dfe603e374",
   "metadata": {},
   "outputs": [
    {
     "name": "stdout",
     "output_type": "stream",
     "text": [
      "postgresql://postgres:sa@localhost:5432/iscri\n"
     ]
    }
   ],
   "source": [
    "pd.set_option('display.max_rows', 50)\n",
    "pd.set_option('display.max_columns', None)\n",
    "print(config.connection_string)\n",
    "context = Context()\n",
    "context.create(echo=False)\n",
    "service = JupyterService(context)"
   ]
  },
  {
   "cell_type": "code",
   "execution_count": 61,
   "id": "d2699d9e-6713-4d29-b8d7-06d48b52e9ae",
   "metadata": {},
   "outputs": [
    {
     "name": "stdout",
     "output_type": "stream",
     "text": [
      "SELECT * FROM iscri WHERE actor1_code = 'USA' AND actor2_code = 'CHN' order by year, month\n"
     ]
    },
    {
     "data": {
      "text/html": [
       "<div>\n",
       "<style scoped>\n",
       "    .dataframe tbody tr th:only-of-type {\n",
       "        vertical-align: middle;\n",
       "    }\n",
       "\n",
       "    .dataframe tbody tr th {\n",
       "        vertical-align: top;\n",
       "    }\n",
       "\n",
       "    .dataframe thead th {\n",
       "        text-align: right;\n",
       "    }\n",
       "</style>\n",
       "<table border=\"1\" class=\"dataframe\">\n",
       "  <thead>\n",
       "    <tr style=\"text-align: right;\">\n",
       "      <th></th>\n",
       "      <th>id</th>\n",
       "      <th>year</th>\n",
       "      <th>month</th>\n",
       "      <th>actor1_code</th>\n",
       "      <th>actor2_code</th>\n",
       "      <th>risk</th>\n",
       "      <th>risk3</th>\n",
       "      <th>risk4</th>\n",
       "      <th>risk_date</th>\n",
       "      <th>iscri</th>\n",
       "      <th>iscri3</th>\n",
       "      <th>iscri4</th>\n",
       "      <th>iscri_date</th>\n",
       "      <th>year_month</th>\n",
       "    </tr>\n",
       "  </thead>\n",
       "  <tbody>\n",
       "    <tr>\n",
       "      <th>0</th>\n",
       "      <td>44493</td>\n",
       "      <td>2015</td>\n",
       "      <td>1</td>\n",
       "      <td>USA</td>\n",
       "      <td>CHN</td>\n",
       "      <td>0.000000</td>\n",
       "      <td>0.000000</td>\n",
       "      <td>0.000000</td>\n",
       "      <td>2024-10-17 15:18:36.929878</td>\n",
       "      <td>1.570000</td>\n",
       "      <td>0.000000</td>\n",
       "      <td>0.000000</td>\n",
       "      <td>2024-10-17 15:18:36.929878</td>\n",
       "      <td>2015-1</td>\n",
       "    </tr>\n",
       "    <tr>\n",
       "      <th>1</th>\n",
       "      <td>29745</td>\n",
       "      <td>2015</td>\n",
       "      <td>2</td>\n",
       "      <td>USA</td>\n",
       "      <td>CHN</td>\n",
       "      <td>0.078443</td>\n",
       "      <td>0.037154</td>\n",
       "      <td>0.041289</td>\n",
       "      <td>2024-10-17 15:15:15.621572</td>\n",
       "      <td>1.491443</td>\n",
       "      <td>0.037154</td>\n",
       "      <td>0.041289</td>\n",
       "      <td>2024-10-17 15:19:17.226293</td>\n",
       "      <td>2015-2</td>\n",
       "    </tr>\n",
       "    <tr>\n",
       "      <th>2</th>\n",
       "      <td>30520</td>\n",
       "      <td>2015</td>\n",
       "      <td>3</td>\n",
       "      <td>USA</td>\n",
       "      <td>CHN</td>\n",
       "      <td>0.167253</td>\n",
       "      <td>0.124861</td>\n",
       "      <td>0.042392</td>\n",
       "      <td>2024-10-17 15:15:16.029373</td>\n",
       "      <td>1.509552</td>\n",
       "      <td>0.158300</td>\n",
       "      <td>0.079552</td>\n",
       "      <td>2024-10-18 09:02:55.371367</td>\n",
       "      <td>2015-3</td>\n",
       "    </tr>\n",
       "    <tr>\n",
       "      <th>3</th>\n",
       "      <td>32007</td>\n",
       "      <td>2015</td>\n",
       "      <td>4</td>\n",
       "      <td>USA</td>\n",
       "      <td>CHN</td>\n",
       "      <td>0.157135</td>\n",
       "      <td>0.137533</td>\n",
       "      <td>0.019602</td>\n",
       "      <td>2024-10-17 15:15:16.750873</td>\n",
       "      <td>1.515732</td>\n",
       "      <td>0.280002</td>\n",
       "      <td>0.091199</td>\n",
       "      <td>2024-10-18 09:02:55.734416</td>\n",
       "      <td>2015-4</td>\n",
       "    </tr>\n",
       "    <tr>\n",
       "      <th>4</th>\n",
       "      <td>33710</td>\n",
       "      <td>2015</td>\n",
       "      <td>5</td>\n",
       "      <td>USA</td>\n",
       "      <td>CHN</td>\n",
       "      <td>0.134733</td>\n",
       "      <td>0.097610</td>\n",
       "      <td>0.037122</td>\n",
       "      <td>2024-10-17 15:15:17.440587</td>\n",
       "      <td>1.498891</td>\n",
       "      <td>0.349612</td>\n",
       "      <td>0.119202</td>\n",
       "      <td>2024-10-18 09:02:56.207691</td>\n",
       "      <td>2015-5</td>\n",
       "    </tr>\n",
       "    <tr>\n",
       "      <th>5</th>\n",
       "      <td>34916</td>\n",
       "      <td>2015</td>\n",
       "      <td>6</td>\n",
       "      <td>USA</td>\n",
       "      <td>CHN</td>\n",
       "      <td>0.252236</td>\n",
       "      <td>0.231594</td>\n",
       "      <td>0.020642</td>\n",
       "      <td>2024-10-17 15:15:18.120678</td>\n",
       "      <td>1.601238</td>\n",
       "      <td>0.546245</td>\n",
       "      <td>0.127923</td>\n",
       "      <td>2024-10-18 09:02:56.635900</td>\n",
       "      <td>2015-6</td>\n",
       "    </tr>\n",
       "    <tr>\n",
       "      <th>6</th>\n",
       "      <td>36333</td>\n",
       "      <td>2015</td>\n",
       "      <td>7</td>\n",
       "      <td>USA</td>\n",
       "      <td>CHN</td>\n",
       "      <td>0.191774</td>\n",
       "      <td>0.154580</td>\n",
       "      <td>0.037194</td>\n",
       "      <td>2024-10-17 15:15:18.792846</td>\n",
       "      <td>1.632888</td>\n",
       "      <td>0.646200</td>\n",
       "      <td>0.152325</td>\n",
       "      <td>2024-10-18 09:02:57.050355</td>\n",
       "      <td>2015-7</td>\n",
       "    </tr>\n",
       "    <tr>\n",
       "      <th>7</th>\n",
       "      <td>37652</td>\n",
       "      <td>2015</td>\n",
       "      <td>8</td>\n",
       "      <td>USA</td>\n",
       "      <td>CHN</td>\n",
       "      <td>0.175818</td>\n",
       "      <td>0.084766</td>\n",
       "      <td>0.091052</td>\n",
       "      <td>2024-10-17 15:15:19.456561</td>\n",
       "      <td>1.645417</td>\n",
       "      <td>0.666346</td>\n",
       "      <td>0.228145</td>\n",
       "      <td>2024-10-18 09:02:57.516385</td>\n",
       "      <td>2015-8</td>\n",
       "    </tr>\n",
       "    <tr>\n",
       "      <th>8</th>\n",
       "      <td>39005</td>\n",
       "      <td>2015</td>\n",
       "      <td>9</td>\n",
       "      <td>USA</td>\n",
       "      <td>CHN</td>\n",
       "      <td>0.102165</td>\n",
       "      <td>0.075293</td>\n",
       "      <td>0.026873</td>\n",
       "      <td>2024-10-17 15:15:20.110211</td>\n",
       "      <td>1.583040</td>\n",
       "      <td>0.675004</td>\n",
       "      <td>0.232203</td>\n",
       "      <td>2024-10-18 09:02:58.004363</td>\n",
       "      <td>2015-9</td>\n",
       "    </tr>\n",
       "    <tr>\n",
       "      <th>9</th>\n",
       "      <td>40427</td>\n",
       "      <td>2015</td>\n",
       "      <td>10</td>\n",
       "      <td>USA</td>\n",
       "      <td>CHN</td>\n",
       "      <td>0.109846</td>\n",
       "      <td>0.060300</td>\n",
       "      <td>0.049546</td>\n",
       "      <td>2024-10-17 15:15:20.784986</td>\n",
       "      <td>1.534582</td>\n",
       "      <td>0.667804</td>\n",
       "      <td>0.258528</td>\n",
       "      <td>2024-10-18 09:02:58.486447</td>\n",
       "      <td>2015-10</td>\n",
       "    </tr>\n",
       "    <tr>\n",
       "      <th>10</th>\n",
       "      <td>41871</td>\n",
       "      <td>2015</td>\n",
       "      <td>11</td>\n",
       "      <td>USA</td>\n",
       "      <td>CHN</td>\n",
       "      <td>0.096924</td>\n",
       "      <td>0.077327</td>\n",
       "      <td>0.019596</td>\n",
       "      <td>2024-10-17 15:15:21.450024</td>\n",
       "      <td>1.478048</td>\n",
       "      <td>0.678351</td>\n",
       "      <td>0.252272</td>\n",
       "      <td>2024-10-18 09:02:59.020982</td>\n",
       "      <td>2015-11</td>\n",
       "    </tr>\n",
       "    <tr>\n",
       "      <th>11</th>\n",
       "      <td>43242</td>\n",
       "      <td>2015</td>\n",
       "      <td>12</td>\n",
       "      <td>USA</td>\n",
       "      <td>CHN</td>\n",
       "      <td>0.121220</td>\n",
       "      <td>0.106305</td>\n",
       "      <td>0.014915</td>\n",
       "      <td>2024-10-17 15:15:22.135488</td>\n",
       "      <td>1.451463</td>\n",
       "      <td>0.716821</td>\n",
       "      <td>0.241959</td>\n",
       "      <td>2024-10-18 09:02:59.591234</td>\n",
       "      <td>2015-12</td>\n",
       "    </tr>\n",
       "  </tbody>\n",
       "</table>\n",
       "</div>"
      ],
      "text/plain": [
       "       id  year  month actor1_code actor2_code      risk     risk3     risk4  \\\n",
       "0   44493  2015      1         USA         CHN  0.000000  0.000000  0.000000   \n",
       "1   29745  2015      2         USA         CHN  0.078443  0.037154  0.041289   \n",
       "2   30520  2015      3         USA         CHN  0.167253  0.124861  0.042392   \n",
       "3   32007  2015      4         USA         CHN  0.157135  0.137533  0.019602   \n",
       "4   33710  2015      5         USA         CHN  0.134733  0.097610  0.037122   \n",
       "5   34916  2015      6         USA         CHN  0.252236  0.231594  0.020642   \n",
       "6   36333  2015      7         USA         CHN  0.191774  0.154580  0.037194   \n",
       "7   37652  2015      8         USA         CHN  0.175818  0.084766  0.091052   \n",
       "8   39005  2015      9         USA         CHN  0.102165  0.075293  0.026873   \n",
       "9   40427  2015     10         USA         CHN  0.109846  0.060300  0.049546   \n",
       "10  41871  2015     11         USA         CHN  0.096924  0.077327  0.019596   \n",
       "11  43242  2015     12         USA         CHN  0.121220  0.106305  0.014915   \n",
       "\n",
       "                    risk_date     iscri    iscri3    iscri4  \\\n",
       "0  2024-10-17 15:18:36.929878  1.570000  0.000000  0.000000   \n",
       "1  2024-10-17 15:15:15.621572  1.491443  0.037154  0.041289   \n",
       "2  2024-10-17 15:15:16.029373  1.509552  0.158300  0.079552   \n",
       "3  2024-10-17 15:15:16.750873  1.515732  0.280002  0.091199   \n",
       "4  2024-10-17 15:15:17.440587  1.498891  0.349612  0.119202   \n",
       "5  2024-10-17 15:15:18.120678  1.601238  0.546245  0.127923   \n",
       "6  2024-10-17 15:15:18.792846  1.632888  0.646200  0.152325   \n",
       "7  2024-10-17 15:15:19.456561  1.645417  0.666346  0.228145   \n",
       "8  2024-10-17 15:15:20.110211  1.583040  0.675004  0.232203   \n",
       "9  2024-10-17 15:15:20.784986  1.534582  0.667804  0.258528   \n",
       "10 2024-10-17 15:15:21.450024  1.478048  0.678351  0.252272   \n",
       "11 2024-10-17 15:15:22.135488  1.451463  0.716821  0.241959   \n",
       "\n",
       "                   iscri_date year_month  \n",
       "0  2024-10-17 15:18:36.929878     2015-1  \n",
       "1  2024-10-17 15:19:17.226293     2015-2  \n",
       "2  2024-10-18 09:02:55.371367     2015-3  \n",
       "3  2024-10-18 09:02:55.734416     2015-4  \n",
       "4  2024-10-18 09:02:56.207691     2015-5  \n",
       "5  2024-10-18 09:02:56.635900     2015-6  \n",
       "6  2024-10-18 09:02:57.050355     2015-7  \n",
       "7  2024-10-18 09:02:57.516385     2015-8  \n",
       "8  2024-10-18 09:02:58.004363     2015-9  \n",
       "9  2024-10-18 09:02:58.486447    2015-10  \n",
       "10 2024-10-18 09:02:59.020982    2015-11  \n",
       "11 2024-10-18 09:02:59.591234    2015-12  "
      ]
     },
     "execution_count": 61,
     "metadata": {},
     "output_type": "execute_result"
    }
   ],
   "source": [
    "df = service.get_iscris_by_codes(actor1_code='USA', actor2_code='CHN')\n",
    "df[\"year_month\"]=df.year.astype(str) + \"-\" + df.month.astype(str)\n",
    "df"
   ]
  },
  {
   "cell_type": "code",
   "execution_count": 11,
   "id": "11488b36-418f-4b60-a0cf-e5be7184ff30",
   "metadata": {},
   "outputs": [
    {
     "data": {
      "text/plain": [
       "(1.0, 1.75)"
      ]
     },
     "execution_count": 11,
     "metadata": {},
     "output_type": "execute_result"
    },
    {
     "data": {
      "image/png": "[encoded data removed]",
      "text/plain": [
       "<Figure size 640x480 with 1 Axes>"
      ]
     },
     "metadata": {},
     "output_type": "display_data"
    }
   ],
   "source": [
    "plt.plot(df.month, df.iscri)\n",
    "plt.ylim(1,1.75)"
   ]
  },
  {
   "cell_type": "code",
   "execution_count": 64,
   "id": "3120fe46-002d-449e-ad8e-48a16c284269",
   "metadata": {},
   "outputs": [
    {
     "data": {
      "application/vnd.plotly.v1+json": {
       "config": {
        "plotlyServerURL": "https://plot.ly"
       },
       "data": [
        {
         "line": {
          "color": "#00CED1",
          "width": 6
         },
         "name": "Month 0",
         "type": "scatter",
         "visible": true,
         "x": [
          "2015-1",
          "2015-2",
          "2015-3",
          "2015-4",
          "2015-5",
          "2015-6",
          "2015-7",
          "2015-8",
          "2015-9",
          "2015-10",
          "2015-11",
          "2015-12"
         ],
         "y": [
          1.57,
          1.491442737817738,
          1.5095518792376714,
          1.5157315040075006,
          1.498890880497028,
          1.6012379942195303,
          1.6328876998994424,
          1.6454166262649845,
          1.5830404155062288,
          1.53458233128896,
          1.4780479376382996,
          1.4514633519257416
         ]
        },
        {
         "line": {
          "color": "#00CED1",
          "width": 6
         },
         "name": "Month 1",
         "type": "scatter",
         "visible": false,
         "x": [
          "2015-1",
          "2015-2",
          "2015-3",
          "2015-4",
          "2015-5",
          "2015-6",
          "2015-7",
          "2015-8",
          "2015-9",
          "2015-10",
          "2015-11",
          "2015-12"
         ],
         "y": [
          1.491442737817738,
          1.5095518792376714,
          1.5157315040075006,
          1.498890880497028,
          1.6012379942195303,
          1.6328876998994424,
          1.6454166262649845,
          1.5830404155062288,
          1.53458233128896,
          1.4780479376382996,
          1.4514633519257416
         ]
        },
        {
         "line": {
          "color": "#00CED1",
          "width": 6
         },
         "name": "Month 2",
         "type": "scatter",
         "visible": false,
         "x": [
          "2015-1",
          "2015-2",
          "2015-3",
          "2015-4",
          "2015-5",
          "2015-6",
          "2015-7",
          "2015-8",
          "2015-9",
          "2015-10",
          "2015-11",
          "2015-12"
         ],
         "y": [
          1.5095518792376714,
          1.5157315040075006,
          1.498890880497028,
          1.6012379942195303,
          1.6328876998994424,
          1.6454166262649845,
          1.5830404155062288,
          1.53458233128896,
          1.4780479376382996,
          1.4514633519257416
         ]
        },
        {
         "line": {
          "color": "#00CED1",
          "width": 6
         },
         "name": "Month 3",
         "type": "scatter",
         "visible": false,
         "x": [
          "2015-1",
          "2015-2",
          "2015-3",
          "2015-4",
          "2015-5",
          "2015-6",
          "2015-7",
          "2015-8",
          "2015-9",
          "2015-10",
          "2015-11",
          "2015-12"
         ],
         "y": [
          1.5157315040075006,
          1.498890880497028,
          1.6012379942195303,
          1.6328876998994424,
          1.6454166262649845,
          1.5830404155062288,
          1.53458233128896,
          1.4780479376382996,
          1.4514633519257416
         ]
        },
        {
         "line": {
          "color": "#00CED1",
          "width": 6
         },
         "name": "Month 4",
         "type": "scatter",
         "visible": false,
         "x": [
          "2015-1",
          "2015-2",
          "2015-3",
          "2015-4",
          "2015-5",
          "2015-6",
          "2015-7",
          "2015-8",
          "2015-9",
          "2015-10",
          "2015-11",
          "2015-12"
         ],
         "y": [
          1.498890880497028,
          1.6012379942195303,
          1.6328876998994424,
          1.6454166262649845,
          1.5830404155062288,
          1.53458233128896,
          1.4780479376382996,
          1.4514633519257416
         ]
        },
        {
         "line": {
          "color": "#00CED1",
          "width": 6
         },
         "name": "Month 5",
         "type": "scatter",
         "visible": false,
         "x": [
          "2015-1",
          "2015-2",
          "2015-3",
          "2015-4",
          "2015-5",
          "2015-6",
          "2015-7",
          "2015-8",
          "2015-9",
          "2015-10",
          "2015-11",
          "2015-12"
         ],
         "y": [
          1.6012379942195303,
          1.6328876998994424,
          1.6454166262649845,
          1.5830404155062288,
          1.53458233128896,
          1.4780479376382996,
          1.4514633519257416
         ]
        },
        {
         "line": {
          "color": "#00CED1",
          "width": 6
         },
         "name": "Month 6",
         "type": "scatter",
         "visible": false,
         "x": [
          "2015-1",
          "2015-2",
          "2015-3",
          "2015-4",
          "2015-5",
          "2015-6",
          "2015-7",
          "2015-8",
          "2015-9",
          "2015-10",
          "2015-11",
          "2015-12"
         ],
         "y": [
          1.6328876998994424,
          1.6454166262649845,
          1.5830404155062288,
          1.53458233128896,
          1.4780479376382996,
          1.4514633519257416
         ]
        },
        {
         "line": {
          "color": "#00CED1",
          "width": 6
         },
         "name": "Month 7",
         "type": "scatter",
         "visible": false,
         "x": [
          "2015-1",
          "2015-2",
          "2015-3",
          "2015-4",
          "2015-5",
          "2015-6",
          "2015-7",
          "2015-8",
          "2015-9",
          "2015-10",
          "2015-11",
          "2015-12"
         ],
         "y": [
          1.6454166262649845,
          1.5830404155062288,
          1.53458233128896,
          1.4780479376382996,
          1.4514633519257416
         ]
        },
        {
         "line": {
          "color": "#00CED1",
          "width": 6
         },
         "name": "Month 8",
         "type": "scatter",
         "visible": false,
         "x": [
          "2015-1",
          "2015-2",
          "2015-3",
          "2015-4",
          "2015-5",
          "2015-6",
          "2015-7",
          "2015-8",
          "2015-9",
          "2015-10",
          "2015-11",
          "2015-12"
         ],
         "y": [
          1.5830404155062288,
          1.53458233128896,
          1.4780479376382996,
          1.4514633519257416
         ]
        },
        {
         "line": {
          "color": "#00CED1",
          "width": 6
         },
         "name": "Month 9",
         "type": "scatter",
         "visible": false,
         "x": [
          "2015-1",
          "2015-2",
          "2015-3",
          "2015-4",
          "2015-5",
          "2015-6",
          "2015-7",
          "2015-8",
          "2015-9",
          "2015-10",
          "2015-11",
          "2015-12"
         ],
         "y": [
          1.53458233128896,
          1.4780479376382996,
          1.4514633519257416
         ]
        },
        {
         "line": {
          "color": "#00CED1",
          "width": 6
         },
         "name": "Month 10",
         "type": "scatter",
         "visible": false,
         "x": [
          "2015-1",
          "2015-2",
          "2015-3",
          "2015-4",
          "2015-5",
          "2015-6",
          "2015-7",
          "2015-8",
          "2015-9",
          "2015-10",
          "2015-11",
          "2015-12"
         ],
         "y": [
          1.4780479376382996,
          1.4514633519257416
         ]
        },
        {
         "line": {
          "color": "#00CED1",
          "width": 6
         },
         "name": "Month 11",
         "type": "scatter",
         "visible": false,
         "x": [
          "2015-1",
          "2015-2",
          "2015-3",
          "2015-4",
          "2015-5",
          "2015-6",
          "2015-7",
          "2015-8",
          "2015-9",
          "2015-10",
          "2015-11",
          "2015-12"
         ],
         "y": [
          1.4514633519257416
         ]
        }
       ],
       "layout": {
        "autosize": true,
        "legend": {
         "title": {
          "text": "Legend"
         }
        },
        "sliders": [
         {
          "active": 0,
          "currentvalue": {
           "prefix": "Date: "
          },
          "pad": {
           "t": 12
          },
          "steps": [
           {
            "args": [
             {
              "visible": [
               true,
               false,
               false,
               false,
               false,
               false,
               false,
               false,
               false,
               false,
               false,
               false
              ]
             }
            ],
            "label": "2015-01",
            "method": "update"
           },
           {
            "args": [
             {
              "visible": [
               false,
               true,
               false,
               false,
               false,
               false,
               false,
               false,
               false,
               false,
               false,
               false
              ]
             }
            ],
            "label": "2015-02",
            "method": "update"
           },
           {
            "args": [
             {
              "visible": [
               false,
               false,
               true,
               false,
               false,
               false,
               false,
               false,
               false,
               false,
               false,
               false
              ]
             }
            ],
            "label": "2015-03",
            "method": "update"
           },
           {
            "args": [
             {
              "visible": [
               false,
               false,
               false,
               true,
               false,
               false,
               false,
               false,
               false,
               false,
               false,
               false
              ]
             }
            ],
            "label": "2015-04",
            "method": "update"
           },
           {
            "args": [
             {
              "visible": [
               false,
               false,
               false,
               false,
               true,
               false,
               false,
               false,
               false,
               false,
               false,
               false
              ]
             }
            ],
            "label": "2015-05",
            "method": "update"
           },
           {
            "args": [
             {
              "visible": [
               false,
               false,
               false,
               false,
               false,
               true,
               false,
               false,
               false,
               false,
               false,
               false
              ]
             }
            ],
            "label": "2015-06",
            "method": "update"
           },
           {
            "args": [
             {
              "visible": [
               false,
               false,
               false,
               false,
               false,
               false,
               true,
               false,
               false,
               false,
               false,
               false
              ]
             }
            ],
            "label": "2015-07",
            "method": "update"
           },
           {
            "args": [
             {
              "visible": [
               false,
               false,
               false,
               false,
               false,
               false,
               false,
               true,
               false,
               false,
               false,
               false
              ]
             }
            ],
            "label": "2015-08",
            "method": "update"
           },
           {
            "args": [
             {
              "visible": [
               false,
               false,
               false,
               false,
               false,
               false,
               false,
               false,
               true,
               false,
               false,
               false
              ]
             }
            ],
            "label": "2015-09",
            "method": "update"
           },
           {
            "args": [
             {
              "visible": [
               false,
               false,
               false,
               false,
               false,
               false,
               false,
               false,
               false,
               true,
               false,
               false
              ]
             }
            ],
            "label": "2015-10",
            "method": "update"
           },
           {
            "args": [
             {
              "visible": [
               false,
               false,
               false,
               false,
               false,
               false,
               false,
               false,
               false,
               false,
               true,
               false
              ]
             }
            ],
            "label": "2015-11",
            "method": "update"
           },
           {
            "args": [
             {
              "visible": [
               false,
               false,
               false,
               false,
               false,
               false,
               false,
               false,
               false,
               false,
               false,
               true
              ]
             }
            ],
            "label": "2015-12",
            "method": "update"
           }
          ]
         }
        ],
        "template": {
         "data": {
          "bar": [
           {
            "error_x": {
             "color": "#2a3f5f"
            },
            "error_y": {
             "color": "#2a3f5f"
            },
            "marker": {
             "line": {
              "color": "#E5ECF6",
              "width": 0.5
             },
             "pattern": {
              "fillmode": "overlay",
              "size": 10,
              "solidity": 0.2
             }
            },
            "type": "bar"
           }
          ],
          "barpolar": [
           {
            "marker": {
             "line": {
              "color": "#E5ECF6",
              "width": 0.5
             },
             "pattern": {
              "fillmode": "overlay",
              "size": 10,
              "solidity": 0.2
             }
            },
            "type": "barpolar"
           }
          ],
          "carpet": [
           {
            "aaxis": {
             "endlinecolor": "#2a3f5f",
             "gridcolor": "white",
             "linecolor": "white",
             "minorgridcolor": "white",
             "startlinecolor": "#2a3f5f"
            },
            "baxis": {
             "endlinecolor": "#2a3f5f",
             "gridcolor": "white",
             "linecolor": "white",
             "minorgridcolor": "white",
             "startlinecolor": "#2a3f5f"
            },
            "type": "carpet"
           }
          ],
          "choropleth": [
           {
            "colorbar": {
             "outlinewidth": 0,
             "ticks": ""
            },
            "type": "choropleth"
           }
          ],
          "contour": [
           {
            "colorbar": {
             "outlinewidth": 0,
             "ticks": ""
            },
            "colorscale": [
             [
              0,
              "#0d0887"
             ],
             [
              0.1111111111111111,
              "#46039f"
             ],
             [
              0.2222222222222222,
              "#7201a8"
             ],
             [
              0.3333333333333333,
              "#9c179e"
             ],
             [
              0.4444444444444444,
              "#bd3786"
             ],
             [
              0.5555555555555556,
              "#d8576b"
             ],
             [
              0.6666666666666666,
              "#ed7953"
             ],
             [
              0.7777777777777778,
              "#fb9f3a"
             ],
             [
              0.8888888888888888,
              "#fdca26"
             ],
             [
              1,
              "#f0f921"
             ]
            ],
            "type": "contour"
           }
          ],
          "contourcarpet": [
           {
            "colorbar": {
             "outlinewidth": 0,
             "ticks": ""
            },
            "type": "contourcarpet"
           }
          ],
          "heatmap": [
           {
            "colorbar": {
             "outlinewidth": 0,
             "ticks": ""
            },
            "colorscale": [
             [
              0,
              "#0d0887"
             ],
             [
              0.1111111111111111,
              "#46039f"
             ],
             [
              0.2222222222222222,
              "#7201a8"
             ],
             [
              0.3333333333333333,
              "#9c179e"
             ],
             [
              0.4444444444444444,
              "#bd3786"
             ],
             [
              0.5555555555555556,
              "#d8576b"
             ],
             [
              0.6666666666666666,
              "#ed7953"
             ],
             [
              0.7777777777777778,
              "#fb9f3a"
             ],
             [
              0.8888888888888888,
              "#fdca26"
             ],
             [
              1,
              "#f0f921"
             ]
            ],
            "type": "heatmap"
           }
          ],
          "heatmapgl": [
           {
            "colorbar": {
             "outlinewidth": 0,
             "ticks": ""
            },
            "colorscale": [
             [
              0,
              "#0d0887"
             ],
             [
              0.1111111111111111,
              "#46039f"
             ],
             [
              0.2222222222222222,
              "#7201a8"
             ],
             [
              0.3333333333333333,
              "#9c179e"
             ],
             [
              0.4444444444444444,
              "#bd3786"
             ],
             [
              0.5555555555555556,
              "#d8576b"
             ],
             [
              0.6666666666666666,
              "#ed7953"
             ],
             [
              0.7777777777777778,
              "#fb9f3a"
             ],
             [
              0.8888888888888888,
              "#fdca26"
             ],
             [
              1,
              "#f0f921"
             ]
            ],
            "type": "heatmapgl"
           }
          ],
          "histogram": [
           {
            "marker": {
             "pattern": {
              "fillmode": "overlay",
              "size": 10,
              "solidity": 0.2
             }
            },
            "type": "histogram"
           }
          ],
          "histogram2d": [
           {
            "colorbar": {
             "outlinewidth": 0,
             "ticks": ""
            },
            "colorscale": [
             [
              0,
              "#0d0887"
             ],
             [
              0.1111111111111111,
              "#46039f"
             ],
             [
              0.2222222222222222,
              "#7201a8"
             ],
             [
              0.3333333333333333,
              "#9c179e"
             ],
             [
              0.4444444444444444,
              "#bd3786"
             ],
             [
              0.5555555555555556,
              "#d8576b"
             ],
             [
              0.6666666666666666,
              "#ed7953"
             ],
             [
              0.7777777777777778,
              "#fb9f3a"
             ],
             [
              0.8888888888888888,
              "#fdca26"
             ],
             [
              1,
              "#f0f921"
             ]
            ],
            "type": "histogram2d"
           }
          ],
          "histogram2dcontour": [
           {
            "colorbar": {
             "outlinewidth": 0,
             "ticks": ""
            },
            "colorscale": [
             [
              0,
              "#0d0887"
             ],
             [
              0.1111111111111111,
              "#46039f"
             ],
             [
              0.2222222222222222,
              "#7201a8"
             ],
             [
              0.3333333333333333,
              "#9c179e"
             ],
             [
              0.4444444444444444,
              "#bd3786"
             ],
             [
              0.5555555555555556,
              "#d8576b"
             ],
             [
              0.6666666666666666,
              "#ed7953"
             ],
             [
              0.7777777777777778,
              "#fb9f3a"
             ],
             [
              0.8888888888888888,
              "#fdca26"
             ],
             [
              1,
              "#f0f921"
             ]
            ],
            "type": "histogram2dcontour"
           }
          ],
          "mesh3d": [
           {
            "colorbar": {
             "outlinewidth": 0,
             "ticks": ""
            },
            "type": "mesh3d"
           }
          ],
          "parcoords": [
           {
            "line": {
             "colorbar": {
              "outlinewidth": 0,
              "ticks": ""
             }
            },
            "type": "parcoords"
           }
          ],
          "pie": [
           {
            "automargin": true,
            "type": "pie"
           }
          ],
          "scatter": [
           {
            "fillpattern": {
             "fillmode": "overlay",
             "size": 10,
             "solidity": 0.2
            },
            "type": "scatter"
           }
          ],
          "scatter3d": [
           {
            "line": {
             "colorbar": {
              "outlinewidth": 0,
              "ticks": ""
             }
            },
            "marker": {
             "colorbar": {
              "outlinewidth": 0,
              "ticks": ""
             }
            },
            "type": "scatter3d"
           }
          ],
          "scattercarpet": [
           {
            "marker": {
             "colorbar": {
              "outlinewidth": 0,
              "ticks": ""
             }
            },
            "type": "scattercarpet"
           }
          ],
          "scattergeo": [
           {
            "marker": {
             "colorbar": {
              "outlinewidth": 0,
              "ticks": ""
             }
            },
            "type": "scattergeo"
           }
          ],
          "scattergl": [
           {
            "marker": {
             "colorbar": {
              "outlinewidth": 0,
              "ticks": ""
             }
            },
            "type": "scattergl"
           }
          ],
          "scattermapbox": [
           {
            "marker": {
             "colorbar": {
              "outlinewidth": 0,
              "ticks": ""
             }
            },
            "type": "scattermapbox"
           }
          ],
          "scatterpolar": [
           {
            "marker": {
             "colorbar": {
              "outlinewidth": 0,
              "ticks": ""
             }
            },
            "type": "scatterpolar"
           }
          ],
          "scatterpolargl": [
           {
            "marker": {
             "colorbar": {
              "outlinewidth": 0,
              "ticks": ""
             }
            },
            "type": "scatterpolargl"
           }
          ],
          "scatterternary": [
           {
            "marker": {
             "colorbar": {
              "outlinewidth": 0,
              "ticks": ""
             }
            },
            "type": "scatterternary"
           }
          ],
          "surface": [
           {
            "colorbar": {
             "outlinewidth": 0,
             "ticks": ""
            },
            "colorscale": [
             [
              0,
              "#0d0887"
             ],
             [
              0.1111111111111111,
              "#46039f"
             ],
             [
              0.2222222222222222,
              "#7201a8"
             ],
             [
              0.3333333333333333,
              "#9c179e"
             ],
             [
              0.4444444444444444,
              "#bd3786"
             ],
             [
              0.5555555555555556,
              "#d8576b"
             ],
             [
              0.6666666666666666,
              "#ed7953"
             ],
             [
              0.7777777777777778,
              "#fb9f3a"
             ],
             [
              0.8888888888888888,
              "#fdca26"
             ],
             [
              1,
              "#f0f921"
             ]
            ],
            "type": "surface"
           }
          ],
          "table": [
           {
            "cells": {
             "fill": {
              "color": "#EBF0F8"
             },
             "line": {
              "color": "white"
             }
            },
            "header": {
             "fill": {
              "color": "#C8D4E3"
             },
             "line": {
              "color": "white"
             }
            },
            "type": "table"
           }
          ]
         },
         "layout": {
          "annotationdefaults": {
           "arrowcolor": "#2a3f5f",
           "arrowhead": 0,
           "arrowwidth": 1
          },
          "autotypenumbers": "strict",
          "coloraxis": {
           "colorbar": {
            "outlinewidth": 0,
            "ticks": ""
           }
          },
          "colorscale": {
           "diverging": [
            [
             0,
             "#8e0152"
            ],
            [
             0.1,
             "#c51b7d"
            ],
            [
             0.2,
             "#de77ae"
            ],
            [
             0.3,
             "#f1b6da"
            ],
            [
             0.4,
             "#fde0ef"
            ],
            [
             0.5,
             "#f7f7f7"
            ],
            [
             0.6,
             "#e6f5d0"
            ],
            [
             0.7,
             "#b8e186"
            ],
            [
             0.8,
             "#7fbc41"
            ],
            [
             0.9,
             "#4d9221"
            ],
            [
             1,
             "#276419"
            ]
           ],
           "sequential": [
            [
             0,
             "#0d0887"
            ],
            [
             0.1111111111111111,
             "#46039f"
            ],
            [
             0.2222222222222222,
             "#7201a8"
            ],
            [
             0.3333333333333333,
             "#9c179e"
            ],
            [
             0.4444444444444444,
             "#bd3786"
            ],
            [
             0.5555555555555556,
             "#d8576b"
            ],
            [
             0.6666666666666666,
             "#ed7953"
            ],
            [
             0.7777777777777778,
             "#fb9f3a"
            ],
            [
             0.8888888888888888,
             "#fdca26"
            ],
            [
             1,
             "#f0f921"
            ]
           ],
           "sequentialminus": [
            [
             0,
             "#0d0887"
            ],
            [
             0.1111111111111111,
             "#46039f"
            ],
            [
             0.2222222222222222,
             "#7201a8"
            ],
            [
             0.3333333333333333,
             "#9c179e"
            ],
            [
             0.4444444444444444,
             "#bd3786"
            ],
            [
             0.5555555555555556,
             "#d8576b"
            ],
            [
             0.6666666666666666,
             "#ed7953"
            ],
            [
             0.7777777777777778,
             "#fb9f3a"
            ],
            [
             0.8888888888888888,
             "#fdca26"
            ],
            [
             1,
             "#f0f921"
            ]
           ]
          },
          "colorway": [
           "#636efa",
           "#EF553B",
           "#00cc96",
           "#ab63fa",
           "#FFA15A",
           "#19d3f3",
           "#FF6692",
           "#B6E880",
           "#FF97FF",
           "#FECB52"
          ],
          "font": {
           "color": "#2a3f5f"
          },
          "geo": {
           "bgcolor": "white",
           "lakecolor": "white",
           "landcolor": "#E5ECF6",
           "showlakes": true,
           "showland": true,
           "subunitcolor": "white"
          },
          "hoverlabel": {
           "align": "left"
          },
          "hovermode": "closest",
          "mapbox": {
           "style": "light"
          },
          "paper_bgcolor": "white",
          "plot_bgcolor": "#E5ECF6",
          "polar": {
           "angularaxis": {
            "gridcolor": "white",
            "linecolor": "white",
            "ticks": ""
           },
           "bgcolor": "#E5ECF6",
           "radialaxis": {
            "gridcolor": "white",
            "linecolor": "white",
            "ticks": ""
           }
          },
          "scene": {
           "xaxis": {
            "backgroundcolor": "#E5ECF6",
            "gridcolor": "white",
            "gridwidth": 2,
            "linecolor": "white",
            "showbackground": true,
            "ticks": "",
            "zerolinecolor": "white"
           },
           "yaxis": {
            "backgroundcolor": "#E5ECF6",
            "gridcolor": "white",
            "gridwidth": 2,
            "linecolor": "white",
            "showbackground": true,
            "ticks": "",
            "zerolinecolor": "white"
           },
           "zaxis": {
            "backgroundcolor": "#E5ECF6",
            "gridcolor": "white",
            "gridwidth": 2,
            "linecolor": "white",
            "showbackground": true,
            "ticks": "",
            "zerolinecolor": "white"
           }
          },
          "shapedefaults": {
           "line": {
            "color": "#2a3f5f"
           }
          },
          "ternary": {
           "aaxis": {
            "gridcolor": "white",
            "linecolor": "white",
            "ticks": ""
           },
           "baxis": {
            "gridcolor": "white",
            "linecolor": "white",
            "ticks": ""
           },
           "bgcolor": "#E5ECF6",
           "caxis": {
            "gridcolor": "white",
            "linecolor": "white",
            "ticks": ""
           }
          },
          "title": {
           "x": 0.05
          },
          "xaxis": {
           "automargin": true,
           "gridcolor": "white",
           "linecolor": "white",
           "ticks": "",
           "title": {
            "standoff": 15
           },
           "zerolinecolor": "white",
           "zerolinewidth": 2
          },
          "yaxis": {
           "automargin": true,
           "gridcolor": "white",
           "linecolor": "white",
           "ticks": "",
           "title": {
            "standoff": 15
           },
           "zerolinecolor": "white",
           "zerolinewidth": 2
          }
         }
        },
        "title": {
         "text": "ISCRI USA-CHN"
        },
        "xaxis": {
         "autorange": true,
         "range": [
          "2014-12-11 18:18:49.9746",
          "2015-12-21 05:41:10.0254"
         ],
         "tickformat": "%Y-%m",
         "title": {
          "text": "Date"
         },
         "type": "date"
        },
        "yaxis": {
         "range": [
          1.2,
          1.75
         ],
         "title": {
          "text": "ISCRI"
         },
         "type": "linear"
        }
       }
      },
      "image/png": "[encoded data removed]",
      "text/html": [
       "<div>                            <div id=\"7e227f65-1258-4425-8663-c83dfde7fd3e\" class=\"plotly-graph-div\" style=\"height:500px; width:100%;\"></div>            <script type=\"text/javascript\">                require([\"plotly\"], function(Plotly) {                    window.PLOTLYENV=window.PLOTLYENV || {};                                    if (document.getElementById(\"7e227f65-1258-4425-8663-c83dfde7fd3e\")) {                    Plotly.newPlot(                        \"7e227f65-1258-4425-8663-c83dfde7fd3e\",                        [{\"line\":{\"color\":\"#00CED1\",\"width\":6},\"name\":\"Month 0\",\"visible\":true,\"x\":[\"2015-1\",\"2015-2\",\"2015-3\",\"2015-4\",\"2015-5\",\"2015-6\",\"2015-7\",\"2015-8\",\"2015-9\",\"2015-10\",\"2015-11\",\"2015-12\"],\"y\":[1.57,1.491442737817738,1.5095518792376714,1.5157315040075006,1.498890880497028,1.6012379942195303,1.6328876998994424,1.6454166262649845,1.5830404155062288,1.53458233128896,1.4780479376382996,1.4514633519257416],\"type\":\"scatter\"},{\"line\":{\"color\":\"#00CED1\",\"width\":6},\"name\":\"Month 1\",\"visible\":false,\"x\":[\"2015-1\",\"2015-2\",\"2015-3\",\"2015-4\",\"2015-5\",\"2015-6\",\"2015-7\",\"2015-8\",\"2015-9\",\"2015-10\",\"2015-11\",\"2015-12\"],\"y\":[1.491442737817738,1.5095518792376714,1.5157315040075006,1.498890880497028,1.6012379942195303,1.6328876998994424,1.6454166262649845,1.5830404155062288,1.53458233128896,1.4780479376382996,1.4514633519257416],\"type\":\"scatter\"},{\"line\":{\"color\":\"#00CED1\",\"width\":6},\"name\":\"Month 2\",\"visible\":false,\"x\":[\"2015-1\",\"2015-2\",\"2015-3\",\"2015-4\",\"2015-5\",\"2015-6\",\"2015-7\",\"2015-8\",\"2015-9\",\"2015-10\",\"2015-11\",\"2015-12\"],\"y\":[1.5095518792376714,1.5157315040075006,1.498890880497028,1.6012379942195303,1.6328876998994424,1.6454166262649845,1.5830404155062288,1.53458233128896,1.4780479376382996,1.4514633519257416],\"type\":\"scatter\"},{\"line\":{\"color\":\"#00CED1\",\"width\":6},\"name\":\"Month 3\",\"visible\":false,\"x\":[\"2015-1\",\"2015-2\",\"2015-3\",\"2015-4\",\"2015-5\",\"2015-6\",\"2015-7\",\"2015-8\",\"2015-9\",\"2015-10\",\"2015-11\",\"2015-12\"],\"y\":[1.5157315040075006,1.498890880497028,1.6012379942195303,1.6328876998994424,1.6454166262649845,1.5830404155062288,1.53458233128896,1.4780479376382996,1.4514633519257416],\"type\":\"scatter\"},{\"line\":{\"color\":\"#00CED1\",\"width\":6},\"name\":\"Month 4\",\"visible\":false,\"x\":[\"2015-1\",\"2015-2\",\"2015-3\",\"2015-4\",\"2015-5\",\"2015-6\",\"2015-7\",\"2015-8\",\"2015-9\",\"2015-10\",\"2015-11\",\"2015-12\"],\"y\":[1.498890880497028,1.6012379942195303,1.6328876998994424,1.6454166262649845,1.5830404155062288,1.53458233128896,1.4780479376382996,1.4514633519257416],\"type\":\"scatter\"},{\"line\":{\"color\":\"#00CED1\",\"width\":6},\"name\":\"Month 5\",\"visible\":false,\"x\":[\"2015-1\",\"2015-2\",\"2015-3\",\"2015-4\",\"2015-5\",\"2015-6\",\"2015-7\",\"2015-8\",\"2015-9\",\"2015-10\",\"2015-11\",\"2015-12\"],\"y\":[1.6012379942195303,1.6328876998994424,1.6454166262649845,1.5830404155062288,1.53458233128896,1.4780479376382996,1.4514633519257416],\"type\":\"scatter\"},{\"line\":{\"color\":\"#00CED1\",\"width\":6},\"name\":\"Month 6\",\"visible\":false,\"x\":[\"2015-1\",\"2015-2\",\"2015-3\",\"2015-4\",\"2015-5\",\"2015-6\",\"2015-7\",\"2015-8\",\"2015-9\",\"2015-10\",\"2015-11\",\"2015-12\"],\"y\":[1.6328876998994424,1.6454166262649845,1.5830404155062288,1.53458233128896,1.4780479376382996,1.4514633519257416],\"type\":\"scatter\"},{\"line\":{\"color\":\"#00CED1\",\"width\":6},\"name\":\"Month 7\",\"visible\":false,\"x\":[\"2015-1\",\"2015-2\",\"2015-3\",\"2015-4\",\"2015-5\",\"2015-6\",\"2015-7\",\"2015-8\",\"2015-9\",\"2015-10\",\"2015-11\",\"2015-12\"],\"y\":[1.6454166262649845,1.5830404155062288,1.53458233128896,1.4780479376382996,1.4514633519257416],\"type\":\"scatter\"},{\"line\":{\"color\":\"#00CED1\",\"width\":6},\"name\":\"Month 8\",\"visible\":false,\"x\":[\"2015-1\",\"2015-2\",\"2015-3\",\"2015-4\",\"2015-5\",\"2015-6\",\"2015-7\",\"2015-8\",\"2015-9\",\"2015-10\",\"2015-11\",\"2015-12\"],\"y\":[1.5830404155062288,1.53458233128896,1.4780479376382996,1.4514633519257416],\"type\":\"scatter\"},{\"line\":{\"color\":\"#00CED1\",\"width\":6},\"name\":\"Month 9\",\"visible\":false,\"x\":[\"2015-1\",\"2015-2\",\"2015-3\",\"2015-4\",\"2015-5\",\"2015-6\",\"2015-7\",\"2015-8\",\"2015-9\",\"2015-10\",\"2015-11\",\"2015-12\"],\"y\":[1.53458233128896,1.4780479376382996,1.4514633519257416],\"type\":\"scatter\"},{\"line\":{\"color\":\"#00CED1\",\"width\":6},\"name\":\"Month 10\",\"visible\":false,\"x\":[\"2015-1\",\"2015-2\",\"2015-3\",\"2015-4\",\"2015-5\",\"2015-6\",\"2015-7\",\"2015-8\",\"2015-9\",\"2015-10\",\"2015-11\",\"2015-12\"],\"y\":[1.4780479376382996,1.4514633519257416],\"type\":\"scatter\"},{\"line\":{\"color\":\"#00CED1\",\"width\":6},\"name\":\"Month 11\",\"visible\":false,\"x\":[\"2015-1\",\"2015-2\",\"2015-3\",\"2015-4\",\"2015-5\",\"2015-6\",\"2015-7\",\"2015-8\",\"2015-9\",\"2015-10\",\"2015-11\",\"2015-12\"],\"y\":[1.4514633519257416],\"type\":\"scatter\"}],                        {\"template\":{\"data\":{\"histogram2dcontour\":[{\"type\":\"histogram2dcontour\",\"colorbar\":{\"outlinewidth\":0,\"ticks\":\"\"},\"colorscale\":[[0.0,\"#0d0887\"],[0.1111111111111111,\"#46039f\"],[0.2222222222222222,\"#7201a8\"],[0.3333333333333333,\"#9c179e\"],[0.4444444444444444,\"#bd3786\"],[0.5555555555555556,\"#d8576b\"],[0.6666666666666666,\"#ed7953\"],[0.7777777777777778,\"#fb9f3a\"],[0.8888888888888888,\"#fdca26\"],[1.0,\"#f0f921\"]]}],\"choropleth\":[{\"type\":\"choropleth\",\"colorbar\":{\"outlinewidth\":0,\"ticks\":\"\"}}],\"histogram2d\":[{\"type\":\"histogram2d\",\"colorbar\":{\"outlinewidth\":0,\"ticks\":\"\"},\"colorscale\":[[0.0,\"#0d0887\"],[0.1111111111111111,\"#46039f\"],[0.2222222222222222,\"#7201a8\"],[0.3333333333333333,\"#9c179e\"],[0.4444444444444444,\"#bd3786\"],[0.5555555555555556,\"#d8576b\"],[0.6666666666666666,\"#ed7953\"],[0.7777777777777778,\"#fb9f3a\"],[0.8888888888888888,\"#fdca26\"],[1.0,\"#f0f921\"]]}],\"heatmap\":[{\"type\":\"heatmap\",\"colorbar\":{\"outlinewidth\":0,\"ticks\":\"\"},\"colorscale\":[[0.0,\"#0d0887\"],[0.1111111111111111,\"#46039f\"],[0.2222222222222222,\"#7201a8\"],[0.3333333333333333,\"#9c179e\"],[0.4444444444444444,\"#bd3786\"],[0.5555555555555556,\"#d8576b\"],[0.6666666666666666,\"#ed7953\"],[0.7777777777777778,\"#fb9f3a\"],[0.8888888888888888,\"#fdca26\"],[1.0,\"#f0f921\"]]}],\"heatmapgl\":[{\"type\":\"heatmapgl\",\"colorbar\":{\"outlinewidth\":0,\"ticks\":\"\"},\"colorscale\":[[0.0,\"#0d0887\"],[0.1111111111111111,\"#46039f\"],[0.2222222222222222,\"#7201a8\"],[0.3333333333333333,\"#9c179e\"],[0.4444444444444444,\"#bd3786\"],[0.5555555555555556,\"#d8576b\"],[0.6666666666666666,\"#ed7953\"],[0.7777777777777778,\"#fb9f3a\"],[0.8888888888888888,\"#fdca26\"],[1.0,\"#f0f921\"]]}],\"contourcarpet\":[{\"type\":\"contourcarpet\",\"colorbar\":{\"outlinewidth\":0,\"ticks\":\"\"}}],\"contour\":[{\"type\":\"contour\",\"colorbar\":{\"outlinewidth\":0,\"ticks\":\"\"},\"colorscale\":[[0.0,\"#0d0887\"],[0.1111111111111111,\"#46039f\"],[0.2222222222222222,\"#7201a8\"],[0.3333333333333333,\"#9c179e\"],[0.4444444444444444,\"#bd3786\"],[0.5555555555555556,\"#d8576b\"],[0.6666666666666666,\"#ed7953\"],[0.7777777777777778,\"#fb9f3a\"],[0.8888888888888888,\"#fdca26\"],[1.0,\"#f0f921\"]]}],\"surface\":[{\"type\":\"surface\",\"colorbar\":{\"outlinewidth\":0,\"ticks\":\"\"},\"colorscale\":[[0.0,\"#0d0887\"],[0.1111111111111111,\"#46039f\"],[0.2222222222222222,\"#7201a8\"],[0.3333333333333333,\"#9c179e\"],[0.4444444444444444,\"#bd3786\"],[0.5555555555555556,\"#d8576b\"],[0.6666666666666666,\"#ed7953\"],[0.7777777777777778,\"#fb9f3a\"],[0.8888888888888888,\"#fdca26\"],[1.0,\"#f0f921\"]]}],\"mesh3d\":[{\"type\":\"mesh3d\",\"colorbar\":{\"outlinewidth\":0,\"ticks\":\"\"}}],\"scatter\":[{\"fillpattern\":{\"fillmode\":\"overlay\",\"size\":10,\"solidity\":0.2},\"type\":\"scatter\"}],\"parcoords\":[{\"type\":\"parcoords\",\"line\":{\"colorbar\":{\"outlinewidth\":0,\"ticks\":\"\"}}}],\"scatterpolargl\":[{\"type\":\"scatterpolargl\",\"marker\":{\"colorbar\":{\"outlinewidth\":0,\"ticks\":\"\"}}}],\"bar\":[{\"error_x\":{\"color\":\"#2a3f5f\"},\"error_y\":{\"color\":\"#2a3f5f\"},\"marker\":{\"line\":{\"color\":\"#E5ECF6\",\"width\":0.5},\"pattern\":{\"fillmode\":\"overlay\",\"size\":10,\"solidity\":0.2}},\"type\":\"bar\"}],\"scattergeo\":[{\"type\":\"scattergeo\",\"marker\":{\"colorbar\":{\"outlinewidth\":0,\"ticks\":\"\"}}}],\"scatterpolar\":[{\"type\":\"scatterpolar\",\"marker\":{\"colorbar\":{\"outlinewidth\":0,\"ticks\":\"\"}}}],\"histogram\":[{\"marker\":{\"pattern\":{\"fillmode\":\"overlay\",\"size\":10,\"solidity\":0.2}},\"type\":\"histogram\"}],\"scattergl\":[{\"type\":\"scattergl\",\"marker\":{\"colorbar\":{\"outlinewidth\":0,\"ticks\":\"\"}}}],\"scatter3d\":[{\"type\":\"scatter3d\",\"line\":{\"colorbar\":{\"outlinewidth\":0,\"ticks\":\"\"}},\"marker\":{\"colorbar\":{\"outlinewidth\":0,\"ticks\":\"\"}}}],\"scattermapbox\":[{\"type\":\"scattermapbox\",\"marker\":{\"colorbar\":{\"outlinewidth\":0,\"ticks\":\"\"}}}],\"scatterternary\":[{\"type\":\"scatterternary\",\"marker\":{\"colorbar\":{\"outlinewidth\":0,\"ticks\":\"\"}}}],\"scattercarpet\":[{\"type\":\"scattercarpet\",\"marker\":{\"colorbar\":{\"outlinewidth\":0,\"ticks\":\"\"}}}],\"carpet\":[{\"aaxis\":{\"endlinecolor\":\"#2a3f5f\",\"gridcolor\":\"white\",\"linecolor\":\"white\",\"minorgridcolor\":\"white\",\"startlinecolor\":\"#2a3f5f\"},\"baxis\":{\"endlinecolor\":\"#2a3f5f\",\"gridcolor\":\"white\",\"linecolor\":\"white\",\"minorgridcolor\":\"white\",\"startlinecolor\":\"#2a3f5f\"},\"type\":\"carpet\"}],\"table\":[{\"cells\":{\"fill\":{\"color\":\"#EBF0F8\"},\"line\":{\"color\":\"white\"}},\"header\":{\"fill\":{\"color\":\"#C8D4E3\"},\"line\":{\"color\":\"white\"}},\"type\":\"table\"}],\"barpolar\":[{\"marker\":{\"line\":{\"color\":\"#E5ECF6\",\"width\":0.5},\"pattern\":{\"fillmode\":\"overlay\",\"size\":10,\"solidity\":0.2}},\"type\":\"barpolar\"}],\"pie\":[{\"automargin\":true,\"type\":\"pie\"}]},\"layout\":{\"autotypenumbers\":\"strict\",\"colorway\":[\"#636efa\",\"#EF553B\",\"#00cc96\",\"#ab63fa\",\"#FFA15A\",\"#19d3f3\",\"#FF6692\",\"#B6E880\",\"#FF97FF\",\"#FECB52\"],\"font\":{\"color\":\"#2a3f5f\"},\"hovermode\":\"closest\",\"hoverlabel\":{\"align\":\"left\"},\"paper_bgcolor\":\"white\",\"plot_bgcolor\":\"#E5ECF6\",\"polar\":{\"bgcolor\":\"#E5ECF6\",\"angularaxis\":{\"gridcolor\":\"white\",\"linecolor\":\"white\",\"ticks\":\"\"},\"radialaxis\":{\"gridcolor\":\"white\",\"linecolor\":\"white\",\"ticks\":\"\"}},\"ternary\":{\"bgcolor\":\"#E5ECF6\",\"aaxis\":{\"gridcolor\":\"white\",\"linecolor\":\"white\",\"ticks\":\"\"},\"baxis\":{\"gridcolor\":\"white\",\"linecolor\":\"white\",\"ticks\":\"\"},\"caxis\":{\"gridcolor\":\"white\",\"linecolor\":\"white\",\"ticks\":\"\"}},\"coloraxis\":{\"colorbar\":{\"outlinewidth\":0,\"ticks\":\"\"}},\"colorscale\":{\"sequential\":[[0.0,\"#0d0887\"],[0.1111111111111111,\"#46039f\"],[0.2222222222222222,\"#7201a8\"],[0.3333333333333333,\"#9c179e\"],[0.4444444444444444,\"#bd3786\"],[0.5555555555555556,\"#d8576b\"],[0.6666666666666666,\"#ed7953\"],[0.7777777777777778,\"#fb9f3a\"],[0.8888888888888888,\"#fdca26\"],[1.0,\"#f0f921\"]],\"sequentialminus\":[[0.0,\"#0d0887\"],[0.1111111111111111,\"#46039f\"],[0.2222222222222222,\"#7201a8\"],[0.3333333333333333,\"#9c179e\"],[0.4444444444444444,\"#bd3786\"],[0.5555555555555556,\"#d8576b\"],[0.6666666666666666,\"#ed7953\"],[0.7777777777777778,\"#fb9f3a\"],[0.8888888888888888,\"#fdca26\"],[1.0,\"#f0f921\"]],\"diverging\":[[0,\"#8e0152\"],[0.1,\"#c51b7d\"],[0.2,\"#de77ae\"],[0.3,\"#f1b6da\"],[0.4,\"#fde0ef\"],[0.5,\"#f7f7f7\"],[0.6,\"#e6f5d0\"],[0.7,\"#b8e186\"],[0.8,\"#7fbc41\"],[0.9,\"#4d9221\"],[1,\"#276419\"]]},\"xaxis\":{\"gridcolor\":\"white\",\"linecolor\":\"white\",\"ticks\":\"\",\"title\":{\"standoff\":15},\"zerolinecolor\":\"white\",\"automargin\":true,\"zerolinewidth\":2},\"yaxis\":{\"gridcolor\":\"white\",\"linecolor\":\"white\",\"ticks\":\"\",\"title\":{\"standoff\":15},\"zerolinecolor\":\"white\",\"automargin\":true,\"zerolinewidth\":2},\"scene\":{\"xaxis\":{\"backgroundcolor\":\"#E5ECF6\",\"gridcolor\":\"white\",\"linecolor\":\"white\",\"showbackground\":true,\"ticks\":\"\",\"zerolinecolor\":\"white\",\"gridwidth\":2},\"yaxis\":{\"backgroundcolor\":\"#E5ECF6\",\"gridcolor\":\"white\",\"linecolor\":\"white\",\"showbackground\":true,\"ticks\":\"\",\"zerolinecolor\":\"white\",\"gridwidth\":2},\"zaxis\":{\"backgroundcolor\":\"#E5ECF6\",\"gridcolor\":\"white\",\"linecolor\":\"white\",\"showbackground\":true,\"ticks\":\"\",\"zerolinecolor\":\"white\",\"gridwidth\":2}},\"shapedefaults\":{\"line\":{\"color\":\"#2a3f5f\"}},\"annotationdefaults\":{\"arrowcolor\":\"#2a3f5f\",\"arrowhead\":0,\"arrowwidth\":1},\"geo\":{\"bgcolor\":\"white\",\"landcolor\":\"#E5ECF6\",\"subunitcolor\":\"white\",\"showland\":true,\"showlakes\":true,\"lakecolor\":\"white\"},\"title\":{\"x\":0.05},\"mapbox\":{\"style\":\"light\"}}},\"xaxis\":{\"title\":{\"text\":\"Date\"},\"tickformat\":\"%Y-%m\"},\"sliders\":[{\"active\":0,\"currentvalue\":{\"prefix\":\"Date: \"},\"pad\":{\"t\":12},\"steps\":[{\"args\":[{\"visible\":[true,false,false,false,false,false,false,false,false,false,false,false]}],\"label\":\"2015-01\",\"method\":\"update\"},{\"args\":[{\"visible\":[false,true,false,false,false,false,false,false,false,false,false,false]}],\"label\":\"2015-02\",\"method\":\"update\"},{\"args\":[{\"visible\":[false,false,true,false,false,false,false,false,false,false,false,false]}],\"label\":\"2015-03\",\"method\":\"update\"},{\"args\":[{\"visible\":[false,false,false,true,false,false,false,false,false,false,false,false]}],\"label\":\"2015-04\",\"method\":\"update\"},{\"args\":[{\"visible\":[false,false,false,false,true,false,false,false,false,false,false,false]}],\"label\":\"2015-05\",\"method\":\"update\"},{\"args\":[{\"visible\":[false,false,false,false,false,true,false,false,false,false,false,false]}],\"label\":\"2015-06\",\"method\":\"update\"},{\"args\":[{\"visible\":[false,false,false,false,false,false,true,false,false,false,false,false]}],\"label\":\"2015-07\",\"method\":\"update\"},{\"args\":[{\"visible\":[false,false,false,false,false,false,false,true,false,false,false,false]}],\"label\":\"2015-08\",\"method\":\"update\"},{\"args\":[{\"visible\":[false,false,false,false,false,false,false,false,true,false,false,false]}],\"label\":\"2015-09\",\"method\":\"update\"},{\"args\":[{\"visible\":[false,false,false,false,false,false,false,false,false,true,false,false]}],\"label\":\"2015-10\",\"method\":\"update\"},{\"args\":[{\"visible\":[false,false,false,false,false,false,false,false,false,false,true,false]}],\"label\":\"2015-11\",\"method\":\"update\"},{\"args\":[{\"visible\":[false,false,false,false,false,false,false,false,false,false,false,true]}],\"label\":\"2015-12\",\"method\":\"update\"}]}],\"height\":500,\"title\":{\"text\":\"ISCRI USA-CHN\"},\"yaxis\":{\"title\":{\"text\":\"ISCRI\"},\"range\":[1.2,1.75]},\"legend\":{\"title\":{\"text\":\"Legend\"}}},                        {\"responsive\": true}                    ).then(function(){\n",
       "                            \n",
       "var gd = document.getElementById('7e227f65-1258-4425-8663-c83dfde7fd3e');\n",
       "var x = new MutationObserver(function (mutations, observer) {{\n",
       "        var display = window.getComputedStyle(gd).display;\n",
       "        if (!display || display === 'none') {{\n",
       "            console.log([gd, 'removed!']);\n",
       "            Plotly.purge(gd);\n",
       "            observer.disconnect();\n",
       "        }}\n",
       "}});\n",
       "\n",
       "// Listen for the removal of the full notebook cells\n",
       "var notebookContainer = gd.closest('#notebook-container');\n",
       "if (notebookContainer) {{\n",
       "    x.observe(notebookContainer, {childList: true});\n",
       "}}\n",
       "\n",
       "// Listen for the clearing of the current output cell\n",
       "var outputEl = gd.closest('.output');\n",
       "if (outputEl) {{\n",
       "    x.observe(outputEl, {childList: true});\n",
       "}}\n",
       "\n",
       "                        })                };                });            </script>        </div>"
      ]
     },
     "metadata": {},
     "output_type": "display_data"
    }
   ],
   "source": [
    "fig = go.Figure()\n",
    "\n",
    "for step in np.arange(len(df)):\n",
    "    fig.add_trace(\n",
    "        go.Scatter(\n",
    "            visible=False,\n",
    "            line=dict(color=\"#00CED1\", width=6),\n",
    "            name=f\"Month {step}\",\n",
    "            x=df.year_month,\n",
    "            y=df.iscri[step:],\n",
    "        ))\n",
    "\n",
    "fig.data[0].visible = True\n",
    "\n",
    "steps = []\n",
    "for index, row in df.iterrows():\n",
    "    step = dict(\n",
    "        method=\"update\",\n",
    "        args=[{\"visible\": [False] * len(fig.data)},\n",
    "              # {\"title\": f\"Date: {row['year']}-{row['month']:02d}\"},\n",
    "             ],\n",
    "        label=f\"{row['year']}-{row['month']:02d}\",\n",
    "    )\n",
    "    step[\"args\"][0][\"visible\"][index] = True\n",
    "    steps.append(step)\n",
    "    \n",
    "sliders = [dict(\n",
    "    active=0,\n",
    "    currentvalue={\"prefix\": \"Date: \"},\n",
    "    pad={\"t\": len(df)},\n",
    "    steps=steps\n",
    ")]\n",
    "\n",
    "fig.update_layout(\n",
    "    sliders=sliders,\n",
    "    height=500,\n",
    "    title=\"ISCRI USA-CHN\",\n",
    "    # xaxis_title=\"Date\",\n",
    "    yaxis_title=\"ISCRI\",\n",
    "    # legend_title=\"Legend\",\n",
    "    xaxis=dict(tickformat=\"%Y-%m\")\n",
    ")\n",
    "fig.update_yaxes(range=[1.2, 1.75])\n",
    "# fig.write_html(\"data/out.html\")\n",
    "fig.show()"
   ]
  },
  {
   "cell_type": "code",
   "execution_count": null,
   "id": "e72719a6-017c-46ec-9d10-3ad4e9eba349",
   "metadata": {},
   "outputs": [],
   "source": []
  }
 ],
 "metadata": {
  "kernelspec": {
   "display_name": "Python 3 (ipykernel)",
   "language": "python",
   "name": "python3"
  },
  "language_info": {
   "codemirror_mode": {
    "name": "ipython",
    "version": 3
   },
   "file_extension": ".py",
   "mimetype": "text/x-python",
   "name": "python",
   "nbconvert_exporter": "python",
   "pygments_lexer": "ipython3",
   "version": "3.12.0"
  }
 },
 "nbformat": 4,
 "nbformat_minor": 5
}
